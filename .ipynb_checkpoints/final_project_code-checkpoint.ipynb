{
 "cells": [
  {
   "cell_type": "markdown",
   "id": "1fbe6d51",
   "metadata": {},
   "source": [
    "# Deep Learning Final Project"
   ]
  },
  {
   "cell_type": "markdown",
   "id": "16d0b187",
   "metadata": {},
   "source": [
    "McKade Thomas\n",
    "Brian Nalley"
   ]
  },
  {
   "cell_type": "code",
   "execution_count": null,
   "id": "f4113320",
   "metadata": {},
   "outputs": [],
   "source": []
  }
 ],
 "metadata": {
  "kernelspec": {
   "display_name": "Python 3 (ipykernel)",
   "language": "python",
   "name": "python3"
  },
  "language_info": {
   "codemirror_mode": {
    "name": "ipython",
    "version": 3
   },
   "file_extension": ".py",
   "mimetype": "text/x-python",
   "name": "python",
   "nbconvert_exporter": "python",
   "pygments_lexer": "ipython3",
   "version": "3.7.13"
  }
 },
 "nbformat": 4,
 "nbformat_minor": 5
}
