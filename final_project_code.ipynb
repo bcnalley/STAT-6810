{
  "cells": [
    {
      "cell_type": "markdown",
      "id": "7b2170b0",
      "metadata": {
        "id": "7b2170b0"
      },
      "source": [
        "# Deep Learning Final Project"
      ]
    },
    {
      "cell_type": "markdown",
      "id": "228890fe",
      "metadata": {
        "id": "228890fe"
      },
      "source": [
        "### Group Members:\n",
        "- McKade Thomas\n",
        "- Brian Nalley"
      ]
    },
    {
      "cell_type": "code",
      "execution_count": 2,
      "id": "gq_hG_2TGNz9",
      "metadata": {
        "collapsed": true,
        "id": "gq_hG_2TGNz9",
        "colab": {
          "base_uri": "https://localhost:8080/"
        },
        "outputId": "1c8ccc4a-0848-4300-9e13-b37c046f489f"
      },
      "outputs": [
        {
          "output_type": "stream",
          "name": "stdout",
          "text": [
            "Looking in indexes: https://pypi.org/simple, https://us-python.pkg.dev/colab-wheels/public/simple/\n",
            "Collecting skorch\n",
            "  Downloading skorch-0.12.1-py3-none-any.whl (193 kB)\n",
            "\u001b[K     |████████████████████████████████| 193 kB 4.7 MB/s \n",
            "\u001b[?25hRequirement already satisfied: scipy>=1.1.0 in /usr/local/lib/python3.8/dist-packages (from skorch) (1.7.3)\n",
            "Requirement already satisfied: tqdm>=4.14.0 in /usr/local/lib/python3.8/dist-packages (from skorch) (4.64.1)\n",
            "Requirement already satisfied: scikit-learn>=0.22.0 in /usr/local/lib/python3.8/dist-packages (from skorch) (1.0.2)\n",
            "Requirement already satisfied: numpy>=1.13.3 in /usr/local/lib/python3.8/dist-packages (from skorch) (1.21.6)\n",
            "Requirement already satisfied: tabulate>=0.7.7 in /usr/local/lib/python3.8/dist-packages (from skorch) (0.8.10)\n",
            "Requirement already satisfied: joblib>=0.11 in /usr/local/lib/python3.8/dist-packages (from scikit-learn>=0.22.0->skorch) (1.2.0)\n",
            "Requirement already satisfied: threadpoolctl>=2.0.0 in /usr/local/lib/python3.8/dist-packages (from scikit-learn>=0.22.0->skorch) (3.1.0)\n",
            "Installing collected packages: skorch\n",
            "Successfully installed skorch-0.12.1\n"
          ]
        }
      ],
      "source": [
        "!pip install skorch"
      ]
    },
    {
      "cell_type": "code",
      "execution_count": 3,
      "id": "dfadee3d",
      "metadata": {
        "id": "dfadee3d"
      },
      "outputs": [],
      "source": [
        "import pandas as pd\n",
        "import numpy as np\n",
        "import matplotlib.pyplot as plt\n",
        "import seaborn as sns\n",
        "import torch\n",
        "import torch.nn as nn\n",
        "from sklearn.model_selection import train_test_split, GridSearchCV\n",
        "from sklearn.metrics import mean_squared_error\n",
        "from sklearn.linear_model import LinearRegression\n",
        "import tensorflow as tf\n",
        "\n",
        "import time\n",
        "import torch\n",
        "import torch.nn as nn\n",
        "import torch.nn.functional as F\n",
        "import torch.optim as optim\n",
        "import torchvision\n",
        "from torchvision import datasets, transforms\n",
        "from skorch import NeuralNetRegressor"
      ]
    },
    {
      "cell_type": "code",
      "execution_count": 74,
      "id": "73d49e47",
      "metadata": {
        "id": "73d49e47"
      },
      "outputs": [],
      "source": [
        "# Read in the data\n",
        "df = pd.read_csv(\"steel_data_5_classes.csv\")\n",
        "# df.head()\n",
        "\n",
        "# Change int cols to categorical\n",
        "cat_cols = ['class', 'WeekStatus_Weekday', 'WeekStatus_Weekend', 'Day_of_week_Friday',\n",
        "            'Day_of_week_Monday', 'Day_of_week_Saturday', 'Day_of_week_Sunday',\n",
        "            'Day_of_week_Thursday', 'Day_of_week_Tuesday', 'Day_of_week_Wednesday',\n",
        "            'Load_Type_Light_Load', 'Load_Type_Maximum_Load', 'Load_Type_Medium_Load']\n",
        "\n",
        "for col in cat_cols:\n",
        "    df[col] = df[col].astype('category')"
      ]
    },
    {
      "cell_type": "code",
      "source": [
        "len(df)"
      ],
      "metadata": {
        "colab": {
          "base_uri": "https://localhost:8080/"
        },
        "id": "_YTkIswseJYm",
        "outputId": "54f07001-a5c1-4b11-d6fd-833bb7c074dd"
      },
      "id": "_YTkIswseJYm",
      "execution_count": 75,
      "outputs": [
        {
          "output_type": "execute_result",
          "data": {
            "text/plain": [
              "35040"
            ]
          },
          "metadata": {},
          "execution_count": 75
        }
      ]
    },
    {
      "cell_type": "markdown",
      "id": "6c4ac3dc",
      "metadata": {
        "id": "6c4ac3dc"
      },
      "source": [
        "## EDA"
      ]
    },
    {
      "cell_type": "code",
      "execution_count": 83,
      "id": "f75d31c0",
      "metadata": {
        "collapsed": true,
        "id": "f75d31c0",
        "outputId": "bb4d595a-ce17-49d2-cf12-a72940f58e87",
        "colab": {
          "base_uri": "https://localhost:8080/",
          "height": 295
        }
      },
      "outputs": [
        {
          "output_type": "display_data",
          "data": {
            "text/plain": [
              "<Figure size 432x288 with 1 Axes>"
            ],
            "image/png": "[encoded data removed]"
          },
          "metadata": {
            "needs_background": "light"
          }
        }
      ],
      "source": [
        "# EDA - McKade\n",
        "plt.xlabel('Usage')\n",
        "plt.ylabel('Frequency')\n",
        "plt.title('Histogram of Energy Usage')\n",
        "n, bins, patches = plt.hist(\"Usage\", 50, data = df, facecolor='blue', alpha=0.5)\n",
        "\n",
        "# Tweak spacing to prevent clipping of ylabel\n",
        "plt.subplots_adjust(left=0.15)\n",
        "plt.show()"
      ]
    },
    {
      "cell_type": "code",
      "execution_count": 84,
      "id": "796db905",
      "metadata": {
        "collapsed": true,
        "id": "796db905",
        "outputId": "7314bcb9-70a4-46c7-e59c-5ccf82dec15e",
        "colab": {
          "base_uri": "https://localhost:8080/",
          "height": 364
        }
      },
      "outputs": [
        {
          "output_type": "execute_result",
          "data": {
            "text/plain": [
              "              Usage  Lagging_Current_Reactive.Power_kVarh  \\\n",
              "count  35040.000000                          35040.000000   \n",
              "mean      27.386892                             13.035384   \n",
              "std       33.444380                             16.306000   \n",
              "min        0.000000                              0.000000   \n",
              "25%        3.200000                              2.300000   \n",
              "50%        4.570000                              5.000000   \n",
              "75%       51.237500                             22.640000   \n",
              "max      157.180000                             96.910000   \n",
              "\n",
              "       Leading_Current_Reactive_Power_kVarh     CO2.tCO2.  \\\n",
              "count                          35040.000000  35040.000000   \n",
              "mean                               3.870949      0.011524   \n",
              "std                                7.424463      0.016151   \n",
              "min                                0.000000      0.000000   \n",
              "25%                                0.000000      0.000000   \n",
              "50%                                0.000000      0.000000   \n",
              "75%                                2.090000      0.020000   \n",
              "max                               27.760000      0.070000   \n",
              "\n",
              "       Lagging_Current_Power_Factor  Leading_Current_Power_Factor  \\\n",
              "count                  35040.000000                  35040.000000   \n",
              "mean                      80.578056                     84.367870   \n",
              "std                       18.921322                     30.456535   \n",
              "min                        0.000000                      0.000000   \n",
              "25%                       63.320000                     99.700000   \n",
              "50%                       87.960000                    100.000000   \n",
              "75%                       99.022500                    100.000000   \n",
              "max                      100.000000                    100.000000   \n",
              "\n",
              "                NSM  \n",
              "count  35040.000000  \n",
              "mean   42750.000000  \n",
              "std    24940.534317  \n",
              "min        0.000000  \n",
              "25%    21375.000000  \n",
              "50%    42750.000000  \n",
              "75%    64125.000000  \n",
              "max    85500.000000  "
            ],
            "text/html": [
              "\n",
              "  <div id=\"df-78368351-58bf-44e4-9096-0c0bc5261a81\">\n",
              "    <div class=\"colab-df-container\">\n",
              "      <div>\n",
              "<style scoped>\n",
              "    .dataframe tbody tr th:only-of-type {\n",
              "        vertical-align: middle;\n",
              "    }\n",
              "\n",
              "    .dataframe tbody tr th {\n",
              "        vertical-align: top;\n",
              "    }\n",
              "\n",
              "    .dataframe thead th {\n",
              "        text-align: right;\n",
              "    }\n",
              "</style>\n",
              "<table border=\"1\" class=\"dataframe\">\n",
              "  <thead>\n",
              "    <tr style=\"text-align: right;\">\n",
              "      <th></th>\n",
              "      <th>Usage</th>\n",
              "      <th>Lagging_Current_Reactive.Power_kVarh</th>\n",
              "      <th>Leading_Current_Reactive_Power_kVarh</th>\n",
              "      <th>CO2.tCO2.</th>\n",
              "      <th>Lagging_Current_Power_Factor</th>\n",
              "      <th>Leading_Current_Power_Factor</th>\n",
              "      <th>NSM</th>\n",
              "    </tr>\n",
              "  </thead>\n",
              "  <tbody>\n",
              "    <tr>\n",
              "      <th>count</th>\n",
              "      <td>35040.000000</td>\n",
              "      <td>35040.000000</td>\n",
              "      <td>35040.000000</td>\n",
              "      <td>35040.000000</td>\n",
              "      <td>35040.000000</td>\n",
              "      <td>35040.000000</td>\n",
              "      <td>35040.000000</td>\n",
              "    </tr>\n",
              "    <tr>\n",
              "      <th>mean</th>\n",
              "      <td>27.386892</td>\n",
              "      <td>13.035384</td>\n",
              "      <td>3.870949</td>\n",
              "      <td>0.011524</td>\n",
              "      <td>80.578056</td>\n",
              "      <td>84.367870</td>\n",
              "      <td>42750.000000</td>\n",
              "    </tr>\n",
              "    <tr>\n",
              "      <th>std</th>\n",
              "      <td>33.444380</td>\n",
              "      <td>16.306000</td>\n",
              "      <td>7.424463</td>\n",
              "      <td>0.016151</td>\n",
              "      <td>18.921322</td>\n",
              "      <td>30.456535</td>\n",
              "      <td>24940.534317</td>\n",
              "    </tr>\n",
              "    <tr>\n",
              "      <th>min</th>\n",
              "      <td>0.000000</td>\n",
              "      <td>0.000000</td>\n",
              "      <td>0.000000</td>\n",
              "      <td>0.000000</td>\n",
              "      <td>0.000000</td>\n",
              "      <td>0.000000</td>\n",
              "      <td>0.000000</td>\n",
              "    </tr>\n",
              "    <tr>\n",
              "      <th>25%</th>\n",
              "      <td>3.200000</td>\n",
              "      <td>2.300000</td>\n",
              "      <td>0.000000</td>\n",
              "      <td>0.000000</td>\n",
              "      <td>63.320000</td>\n",
              "      <td>99.700000</td>\n",
              "      <td>21375.000000</td>\n",
              "    </tr>\n",
              "    <tr>\n",
              "      <th>50%</th>\n",
              "      <td>4.570000</td>\n",
              "      <td>5.000000</td>\n",
              "      <td>0.000000</td>\n",
              "      <td>0.000000</td>\n",
              "      <td>87.960000</td>\n",
              "      <td>100.000000</td>\n",
              "      <td>42750.000000</td>\n",
              "    </tr>\n",
              "    <tr>\n",
              "      <th>75%</th>\n",
              "      <td>51.237500</td>\n",
              "      <td>22.640000</td>\n",
              "      <td>2.090000</td>\n",
              "      <td>0.020000</td>\n",
              "      <td>99.022500</td>\n",
              "      <td>100.000000</td>\n",
              "      <td>64125.000000</td>\n",
              "    </tr>\n",
              "    <tr>\n",
              "      <th>max</th>\n",
              "      <td>157.180000</td>\n",
              "      <td>96.910000</td>\n",
              "      <td>27.760000</td>\n",
              "      <td>0.070000</td>\n",
              "      <td>100.000000</td>\n",
              "      <td>100.000000</td>\n",
              "      <td>85500.000000</td>\n",
              "    </tr>\n",
              "  </tbody>\n",
              "</table>\n",
              "</div>\n",
              "      <button class=\"colab-df-convert\" onclick=\"convertToInteractive('df-78368351-58bf-44e4-9096-0c0bc5261a81')\"\n",
              "              title=\"Convert this dataframe to an interactive table.\"\n",
              "              style=\"display:none;\">\n",
              "        \n",
              "  <svg xmlns=\"http://www.w3.org/2000/svg\" height=\"24px\"viewBox=\"0 0 24 24\"\n",
              "       width=\"24px\">\n",
              "    <path d=\"M0 0h24v24H0V0z\" fill=\"none\"/>\n",
              "    <path d=\"M18.56 5.44l.94 2.06.94-2.06 2.06-.94-2.06-.94-.94-2.06-.94 2.06-2.06.94zm-11 1L8.5 8.5l.94-2.06 2.06-.94-2.06-.94L8.5 2.5l-.94 2.06-2.06.94zm10 10l.94 2.06.94-2.06 2.06-.94-2.06-.94-.94-2.06-.94 2.06-2.06.94z\"/><path d=\"M17.41 7.96l-1.37-1.37c-.4-.4-.92-.59-1.43-.59-.52 0-1.04.2-1.43.59L10.3 9.45l-7.72 7.72c-.78.78-.78 2.05 0 2.83L4 21.41c.39.39.9.59 1.41.59.51 0 1.02-.2 1.41-.59l7.78-7.78 2.81-2.81c.8-.78.8-2.07 0-2.86zM5.41 20L4 18.59l7.72-7.72 1.47 1.35L5.41 20z\"/>\n",
              "  </svg>\n",
              "      </button>\n",
              "      \n",
              "  <style>\n",
              "    .colab-df-container {\n",
              "      display:flex;\n",
              "      flex-wrap:wrap;\n",
              "      gap: 12px;\n",
              "    }\n",
              "\n",
              "    .colab-df-convert {\n",
              "      background-color: #E8F0FE;\n",
              "      border: none;\n",
              "      border-radius: 50%;\n",
              "      cursor: pointer;\n",
              "      display: none;\n",
              "      fill: #1967D2;\n",
              "      height: 32px;\n",
              "      padding: 0 0 0 0;\n",
              "      width: 32px;\n",
              "    }\n",
              "\n",
              "    .colab-df-convert:hover {\n",
              "      background-color: #E2EBFA;\n",
              "      box-shadow: 0px 1px 2px rgba(60, 64, 67, 0.3), 0px 1px 3px 1px rgba(60, 64, 67, 0.15);\n",
              "      fill: #174EA6;\n",
              "    }\n",
              "\n",
              "    [theme=dark] .colab-df-convert {\n",
              "      background-color: #3B4455;\n",
              "      fill: #D2E3FC;\n",
              "    }\n",
              "\n",
              "    [theme=dark] .colab-df-convert:hover {\n",
              "      background-color: #434B5C;\n",
              "      box-shadow: 0px 1px 3px 1px rgba(0, 0, 0, 0.15);\n",
              "      filter: drop-shadow(0px 1px 2px rgba(0, 0, 0, 0.3));\n",
              "      fill: #FFFFFF;\n",
              "    }\n",
              "  </style>\n",
              "\n",
              "      <script>\n",
              "        const buttonEl =\n",
              "          document.querySelector('#df-78368351-58bf-44e4-9096-0c0bc5261a81 button.colab-df-convert');\n",
              "        buttonEl.style.display =\n",
              "          google.colab.kernel.accessAllowed ? 'block' : 'none';\n",
              "\n",
              "        async function convertToInteractive(key) {\n",
              "          const element = document.querySelector('#df-78368351-58bf-44e4-9096-0c0bc5261a81');\n",
              "          const dataTable =\n",
              "            await google.colab.kernel.invokeFunction('convertToInteractive',\n",
              "                                                     [key], {});\n",
              "          if (!dataTable) return;\n",
              "\n",
              "          const docLinkHtml = 'Like what you see? Visit the ' +\n",
              "            '<a target=\"_blank\" href=https://colab.research.google.com/notebooks/data_table.ipynb>data table notebook</a>'\n",
              "            + ' to learn more about interactive tables.';\n",
              "          element.innerHTML = '';\n",
              "          dataTable['output_type'] = 'display_data';\n",
              "          await google.colab.output.renderOutput(dataTable, element);\n",
              "          const docLink = document.createElement('div');\n",
              "          docLink.innerHTML = docLinkHtml;\n",
              "          element.appendChild(docLink);\n",
              "        }\n",
              "      </script>\n",
              "    </div>\n",
              "  </div>\n",
              "  "
            ]
          },
          "metadata": {},
          "execution_count": 84
        }
      ],
      "source": [
        "df.describe()"
      ]
    },
    {
      "cell_type": "code",
      "execution_count": 85,
      "id": "f9e89614",
      "metadata": {
        "collapsed": true,
        "id": "f9e89614",
        "outputId": "259b25a9-1d49-42ab-9b73-64f47f645296",
        "colab": {
          "base_uri": "https://localhost:8080/",
          "height": 279
        }
      },
      "outputs": [
        {
          "output_type": "display_data",
          "data": {
            "text/plain": [
              "<Figure size 432x288 with 2 Axes>"
            ],
            "image/png": "[encoded data removed]"
          },
          "metadata": {
            "needs_background": "light"
          }
        }
      ],
      "source": [
        "figure = plt.figure()\n",
        "axes = figure.add_subplot(111)\n",
        " \n",
        "# using the matshow() function\n",
        "caxes = axes.matshow(df.loc[:, df.columns != \"Usage\"].corr())\n",
        "figure.colorbar(caxes)\n",
        " \n",
        "# axes.set_xticklabels(['']+df.loc[:, df.columns != \"Usage\"].columns)\n",
        "axes.set_yticklabels(['']+df.loc[:, df.columns != \"Usage\"].columns)\n",
        "plt.title('Correlation Matrix for Input Features')\n",
        "plt.show()"
      ]
    },
    {
      "cell_type": "code",
      "execution_count": 86,
      "id": "13f40724",
      "metadata": {
        "collapsed": true,
        "id": "13f40724",
        "outputId": "057339a7-bc4a-48d3-d6b6-00cadbe9fd94",
        "colab": {
          "base_uri": "https://localhost:8080/",
          "height": 295
        }
      },
      "outputs": [
        {
          "output_type": "display_data",
          "data": {
            "text/plain": [
              "<Figure size 432x288 with 1 Axes>"
            ],
            "image/png": "[encoded data removed]"
          },
          "metadata": {
            "needs_background": "light"
          }
        }
      ],
      "source": [
        "# plt.figure(figsize=(8,5))\n",
        "sns.boxplot(x='class',y='Usage',data=df)\n",
        "plt.title(\"Energy Usage for Discretized Labels\")\n",
        "plt.xlabel('Label')\n",
        "plt.show()"
      ]
    },
    {
      "cell_type": "markdown",
      "id": "39ac4bd0",
      "metadata": {
        "id": "39ac4bd0"
      },
      "source": [
        "## Prepare the Data"
      ]
    },
    {
      "cell_type": "code",
      "execution_count": 76,
      "id": "61e9a91a",
      "metadata": {
        "id": "61e9a91a",
        "scrolled": true
      },
      "outputs": [],
      "source": [
        "#Setting a seed for torch\n",
        "torch.manual_seed(14296) \n",
        "\n",
        "# Test-train split\n",
        "X = df.drop(['class'], axis = 1)\n",
        "y = torch.tensor(df['class'].values.astype(np.float32))\n",
        "X_train, X_test, y_train, y_test = train_test_split(X, y, test_size=0.90, random_state=42)\n",
        "\n",
        "y_cont_train = X_train[\"Usage\"].to_numpy()\n",
        "y_cont_test = X_test[\"Usage\"].to_numpy()\n",
        "X_train = torch.tensor(X_train.drop(['Usage'], axis = 1).values)\n",
        "X_test = torch.tensor(X_test.drop(['Usage'], axis = 1).values)"
      ]
    },
    {
      "cell_type": "markdown",
      "id": "47fd8de5",
      "metadata": {
        "id": "47fd8de5"
      },
      "source": [
        "## Perform the Simulation"
      ]
    },
    {
      "cell_type": "code",
      "execution_count": null,
      "id": "YtobJiYm3ae-",
      "metadata": {
        "id": "YtobJiYm3ae-"
      },
      "outputs": [],
      "source": [
        "# Model with one hidden layer\n",
        "class NeuralNet1(nn.Module):\n",
        "    \n",
        "    def __init__(self, hidden_size: int, input_size: int = 18):\n",
        "        super(NeuralNet1, self).__init__()\n",
        "\n",
        "        self.fc1 = nn.Linear(input_size, hidden_size)\n",
        "        self.relu = nn.ReLU()\n",
        "        self.fc2 = nn.Linear(hidden_size,1)\n",
        "    \n",
        "    def forward(self, x):\n",
        "        out = self.fc1(x)\n",
        "        out = self.relu(out)\n",
        "        out = self.fc2(out)\n",
        "        return out"
      ]
    },
    {
      "cell_type": "code",
      "execution_count": 77,
      "id": "93ZT2x0S3eax",
      "metadata": {
        "id": "93ZT2x0S3eax"
      },
      "outputs": [],
      "source": [
        "# Model with two hidden layers\n",
        "class NeuralNet2(nn.Module):\n",
        "    \n",
        "    def __init__(self, hidden_size: int, input_size: int = 18):\n",
        "        super(NeuralNet2, self).__init__()\n",
        "\n",
        "        self.fc1 = nn.Linear(input_size,hidden_size)\n",
        "        self.relu1 = nn.ReLU()\n",
        "        self.fc2 = nn.Linear(hidden_size,hidden_size)\n",
        "        self.relu2 = nn.ReLU()\n",
        "        self.fc3 = nn.Linear(hidden_size, 1)\n",
        "    \n",
        "    def forward(self, x):\n",
        "\n",
        "        out = self.fc1(x)\n",
        "        out = self.relu1(out)\n",
        "        out = self.fc2(out)\n",
        "        out = self.relu2(out)\n",
        "        out = self.fc3(out)\n",
        "        return out"
      ]
    },
    {
      "cell_type": "code",
      "execution_count": 90,
      "id": "f0687873",
      "metadata": {
        "id": "f0687873"
      },
      "outputs": [],
      "source": [
        "# Model with two hidden layers\n",
        "class NeuralNet3(nn.Module):\n",
        "    def __init__(self, hidden_size: int, input_size: int = 18):\n",
        "        super(NeuralNet3, self).__init__()\n",
        "        self.fc1 = nn.Linear(input_size,hidden_size)\n",
        "        self.relu1 = nn.ReLU()\n",
        "        self.fc2 = nn.Linear(hidden_size,hidden_size)\n",
        "        self.relu2 = nn.ReLU()\n",
        "        self.fc3 = nn.Linear(hidden_size,hidden_size)\n",
        "        self.relu3 = nn.ReLU()\n",
        "        self.fc4 = nn.Linear(hidden_size, 1)\n",
        "    \n",
        "    def forward(self, x):\n",
        "        out = self.fc1(x)\n",
        "        out = self.relu1(out)\n",
        "        out = self.fc2(out)\n",
        "        out = self.relu2(out)\n",
        "        out = self.fc3(out)\n",
        "        out = self.relu3(out)\n",
        "        out = self.fc4(out)\n",
        "        return out"
      ]
    },
    {
      "cell_type": "code",
      "execution_count": 78,
      "id": "01e66c74",
      "metadata": {
        "id": "01e66c74"
      },
      "outputs": [],
      "source": [
        "class LinearRegression(nn.Module):\n",
        "    def __init__(self,input_size = 1, output_size = 1):\n",
        "        super(LinearRegression,self).__init__()\n",
        "        self.linear = nn.Linear(1, 1)\n",
        "\n",
        "    def forward(self,x):\n",
        "        return self.linear(x)"
      ]
    },
    {
      "cell_type": "code",
      "execution_count": null,
      "id": "a3160631",
      "metadata": {
        "id": "a3160631"
      },
      "outputs": [],
      "source": [
        "# class MultiTaskModule(nn.Module):\n",
        "#     '''This module should be able to take any number of layers and dimensions. For instance, \n",
        "#     if hidden_dims = [100, 100] the architecture should have two hidden layers with 100 neurons each. \n",
        "#     If hidden_dims = [200, 100, 80] your code should generate 3 hidden layers.'''\n",
        "    \n",
        "#     def __init__(self, input_dim, hidden_dims, z_dim, output_dim):\n",
        "#         super().__init__()\n",
        "\n",
        "#         self.layers = [nn.Linear(input_dim, hidden_dims[0])]\n",
        "        \n",
        "#         for i in range(len(hidden_dims)-1):\n",
        "#             self.layers.append(nn.Linear(hidden_dims[i], hidden_dims[i+1]))\n",
        "        \n",
        "#         self.layers.append(nn.Linear(hidden_dims[-1], output_dim))\n",
        "#         self.classifier = nn.ModuleList(self.layers)\n",
        "        \n",
        "        \n",
        "#         self.R_layers = []\n",
        "#         for i in range(len(hidden_dims)):\n",
        "#             self.R_layers.append(nn.Linear(hidden_dims[i], z_dim))\n",
        "            \n",
        "#         self.regularization = nn.ModuleList(self.R_layers)\n",
        "#         self.nl = nn.ReLU()\n",
        "#         # self.lact = nn.Softmax()\n",
        "               \n",
        "#     def forward(self, x, noise = 0):\n",
        "        \n",
        "#         C = []\n",
        "#         for i, l in enumerate(self.classifier):\n",
        "#             if i < 1:          \n",
        "#                 x = l(x)\n",
        "#             elif  i == len(self.classifier)-1: \n",
        "#                 # x = self.lact(l(x))\n",
        "#                 x = l(x)\n",
        "#             else:\n",
        "#                 x = self.nl(l(x))\n",
        "#             C.append(x)\n",
        "        \n",
        "#         R = []\n",
        "#         for i, l in enumerate(self.regularization):\n",
        "#             x = l(C[i])\n",
        "#             R.append(x)\n",
        "        \n",
        "#         '''The output of the forward pass should be a list \"R\" that contains all the mappings from the inner layers to \n",
        "#         the reference embeddings, and a classification activations'''\n",
        "#         return R, C[-1]"
      ]
    },
    {
      "cell_type": "markdown",
      "id": "mq52Py14JI4u",
      "metadata": {
        "id": "mq52Py14JI4u"
      },
      "source": [
        "Tuning Hyperparameters (Learning Rate & Hidden Size)"
      ]
    },
    {
      "cell_type": "code",
      "execution_count": null,
      "id": "mkSp05OpIR5F",
      "metadata": {
        "id": "mkSp05OpIR5F"
      },
      "outputs": [],
      "source": [
        "model = NeuralNetRegressor(module = NeuralNet2(hidden_size = 100), \n",
        "                             max_epochs = 30,\n",
        "                             criterion = nn.MSELoss, \n",
        "                             optimizer = torch.optim.Adam,\n",
        "                             lr = 0.001,\n",
        "                             batch_size = 128,\n",
        "                             optimizer__weight_decay = 0.001,\n",
        "                             verbose=0)"
      ]
    },
    {
      "cell_type": "code",
      "execution_count": 79,
      "id": "e2ea539d",
      "metadata": {
        "id": "e2ea539d"
      },
      "outputs": [],
      "source": [
        "model = NeuralNetRegressor(module = NeuralNet2(hidden_size = 40), \n",
        "                             max_epochs = 30,\n",
        "                             criterion = nn.MSELoss, \n",
        "                             optimizer = torch.optim.Adam,\n",
        "                             lr = 0.001,\n",
        "                             batch_size = 128,\n",
        "                             optimizer__weight_decay = 0.001,\n",
        "                             verbose=0)\n",
        "model.fit(X_train.float(), y_train.reshape(-1,1))\n",
        "y_preds = model.predict(X_test.float())"
      ]
    },
    {
      "cell_type": "code",
      "source": [
        "model = NeuralNetRegressor(module = NeuralNet3(hidden_size = 40), \n",
        "                             max_epochs = 30,\n",
        "                             criterion = nn.MSELoss, \n",
        "                             optimizer = torch.optim.Adam,\n",
        "                             lr = 0.001,\n",
        "                             batch_size = 128,\n",
        "                             optimizer__weight_decay = 0.001,\n",
        "                             verbose=0)\n",
        "model.fit(X_train.float(), y_train.reshape(-1,1))\n",
        "y_preds = model.predict(X_test.float())"
      ],
      "metadata": {
        "id": "gR7AFM6rg4V4"
      },
      "id": "gR7AFM6rg4V4",
      "execution_count": 91,
      "outputs": []
    },
    {
      "cell_type": "code",
      "source": [
        "# plot of y_preds vs y_test\n",
        "fig, ax = plt.subplots() \n",
        "ax.set_ylabel('Predicted Binned Y') \n",
        "ax.set_xlabel('Binned Y Test') \n",
        "ax.scatter(y_test, y_preds, color = 'blue')\n",
        "ax.set_yticks(np.arange(1,6,1))"
      ],
      "metadata": {
        "colab": {
          "base_uri": "https://localhost:8080/",
          "height": 366
        },
        "id": "34OHQgGa78HY",
        "outputId": "53e9fcac-af0a-4177-9201-1a68e9221fb3"
      },
      "id": "34OHQgGa78HY",
      "execution_count": 94,
      "outputs": [
        {
          "output_type": "execute_result",
          "data": {
            "text/plain": [
              "[<matplotlib.axis.YTick at 0x7ff6fa792ca0>,\n",
              " <matplotlib.axis.YTick at 0x7ff6fa7b91f0>,\n",
              " <matplotlib.axis.YTick at 0x7ff6fa80b910>,\n",
              " <matplotlib.axis.YTick at 0x7ff6fb29d220>,\n",
              " <matplotlib.axis.YTick at 0x7ff801fec730>]"
            ]
          },
          "metadata": {},
          "execution_count": 94
        },
        {
          "output_type": "display_data",
          "data": {
            "text/plain": [
              "<Figure size 432x288 with 1 Axes>"
            ],
            "image/png": "[encoded data removed]"
          },
          "metadata": {
            "needs_background": "light"
          }
        }
      ]
    },
    {
      "cell_type": "code",
      "source": [
        "binned_rmse = []\n",
        "\n",
        "model = NeuralNetRegressor(module = NeuralNet2(hidden_size = 100), \n",
        "                             max_epochs = 50,\n",
        "                             criterion = nn.MSELoss, \n",
        "                             optimizer = torch.optim.Adam,\n",
        "                             lr = 0.001,\n",
        "                             batch_size = 128,\n",
        "                             optimizer__weight_decay = 0.001,\n",
        "                             verbose=0)\n",
        "\n",
        "model.fit(X_train.float(), y_train.reshape(-1,1))\n",
        "y_preds = model.predict(X_test.float())\n",
        "\n",
        "binned_rmse.append(np.sqrt(mean_squared_error(y_preds, y_test.float())))\n",
        "\n",
        "LM = NeuralNetRegressor(module = LinearRegression(1,1),\n",
        "                        max_epochs = 50,\n",
        "                         criterion = nn.MSELoss, \n",
        "                         optimizer = torch.optim.Adam,\n",
        "                         lr = 0.001,\n",
        "                         batch_size = 128,\n",
        "                         optimizer__weight_decay = 0.001,\n",
        "                         verbose=0\n",
        "                       )\n",
        "## Pytorch\n",
        "LM.fit(torch.tensor(y_preds).float(), torch.tensor(y_cont_test).float().reshape(-1,1))\n",
        "cont_preds = LM.predict(y_preds)"
      ],
      "metadata": {
        "id": "l4dF_2cS7_OX"
      },
      "id": "l4dF_2cS7_OX",
      "execution_count": 81,
      "outputs": []
    },
    {
      "cell_type": "code",
      "source": [
        "binned_rmse = []\n",
        "\n",
        "model = NeuralNetRegressor(module = NeuralNet3(hidden_size = 100), \n",
        "                             max_epochs = 50,\n",
        "                             criterion = nn.MSELoss, \n",
        "                             optimizer = torch.optim.Adam,\n",
        "                             lr = 0.001,\n",
        "                             batch_size = 128,\n",
        "                             optimizer__weight_decay = 0.001,\n",
        "                             verbose=0)\n",
        "\n",
        "model.fit(X_train.float(), y_train.reshape(-1,1))\n",
        "y_preds = model.predict(X_test.float())\n",
        "\n",
        "binned_rmse.append(np.sqrt(mean_squared_error(y_preds, y_test.float())))\n",
        "\n",
        "LM = NeuralNetRegressor(module = LinearRegression(1,1),\n",
        "                        max_epochs = 50,\n",
        "                         criterion = nn.MSELoss, \n",
        "                         optimizer = torch.optim.Adam,\n",
        "                         lr = 0.001,\n",
        "                         batch_size = 128,\n",
        "                         optimizer__weight_decay = 0.001,\n",
        "                         verbose=0\n",
        "                       )\n",
        "## Pytorch\n",
        "LM.fit(torch.tensor(y_preds).float(), torch.tensor(y_cont_test).float().reshape(-1,1))\n",
        "cont_preds = LM.predict(y_preds)"
      ],
      "metadata": {
        "id": "tH6DCSRAhTDo"
      },
      "id": "tH6DCSRAhTDo",
      "execution_count": 95,
      "outputs": []
    },
    {
      "cell_type": "code",
      "source": [
        "#plot of cont_preds against y_cont_test\n",
        "fig, ax = plt.subplots() \n",
        "ax.set_ylabel('Continuous Predicted Y') \n",
        "ax.set_xlabel('Continous Y Test') \n",
        "ax.scatter(y_cont_test, cont_preds, color = 'red')"
      ],
      "metadata": {
        "colab": {
          "base_uri": "https://localhost:8080/",
          "height": 296
        },
        "id": "N1nQ5AEx8C1R",
        "outputId": "dc0c72c2-4911-48e8-89de-e52a3159711d"
      },
      "id": "N1nQ5AEx8C1R",
      "execution_count": 96,
      "outputs": [
        {
          "output_type": "execute_result",
          "data": {
            "text/plain": [
              "<matplotlib.collections.PathCollection at 0x7ff6fb2cf8e0>"
            ]
          },
          "metadata": {},
          "execution_count": 96
        },
        {
          "output_type": "display_data",
          "data": {
            "text/plain": [
              "<Figure size 432x288 with 1 Axes>"
            ],
            "image/png": "[encoded data removed]"
          },
          "metadata": {
            "needs_background": "light"
          }
        }
      ]
    },
    {
      "cell_type": "code",
      "execution_count": null,
      "id": "64KJu6wsmYoD",
      "metadata": {
        "collapsed": true,
        "id": "64KJu6wsmYoD"
      },
      "outputs": [],
      "source": [
        "# Grid Search\n",
        "\n",
        "grid = {\n",
        "    'lr': [0.001, 0.005],\n",
        "    'batch_size': [64, 128, 256],\n",
        "    'optimizer__weight_decay': [0.001, 0.005],\n",
        "    'max_epochs':  [50, 100, 200]\n",
        "}\n",
        "\n",
        "gs = GridSearchCV(model, grid, refit = True, cv = 5, scoring = 'neg_root_mean_squared_error')"
      ]
    },
    {
      "cell_type": "code",
      "execution_count": null,
      "id": "UnDzfJFFnMOq",
      "metadata": {
        "colab": {
          "base_uri": "https://localhost:8080/"
        },
        "id": "UnDzfJFFnMOq",
        "outputId": "4483278c-74a8-4df4-fc88-69d24d12b80a"
      },
      "outputs": [
        {
          "name": "stdout",
          "output_type": "stream",
          "text": [
            "-0.8074759006500244 {'batch_size': 128, 'lr': 0.001, 'max_epochs': 50, 'optimizer__weight_decay': 0.001}\n"
          ]
        }
      ],
      "source": [
        "# Hidden size of 100\n",
        "\n",
        "gs.fit(X_train.float(), y_train.reshape(-1, 1))\n",
        "\n",
        "#Report Best Parameters\n",
        "print(gs.best_score_, gs.best_params_)"
      ]
    },
    {
      "cell_type": "markdown",
      "id": "tVki-3if6Mdh",
      "metadata": {
        "id": "tVki-3if6Mdh"
      },
      "source": [
        "With 30 epochs, best learning rate was 0.005, with 50 epochs it was 0.001.  RMSE decreased from 0.0948 to 0.847 from 30 to 50 epochs.  Even when compared with 100 and 200 epochs, 50 performed best, with the same hyperparameters as earlier, now with a RMSE of 0.807."
      ]
    },
    {
      "cell_type": "code",
      "execution_count": null,
      "id": "97e90819",
      "metadata": {
        "id": "97e90819"
      },
      "outputs": [],
      "source": [
        "# Run Monte Carlo Simulation\n",
        "def run_simulation(MC: int, hidden_sizes: list, epochs: int = 10) -> None:\n",
        "    \"\"\"\n",
        "    Repeats the modeling process MC times and visualizes the results.\n",
        "    - param MC: number of times to run the simulation.\n",
        "    - param hidden_sizes: contains the values for the hidden size layer of the network.\n",
        "    - param epochs: the number of epochs for the network to train on.\n",
        "    \"\"\"\n",
        "    print(f'STARTING SIMULATION WITH {len(hidden_sizes)} SIZES...')\n",
        "    full_timer = time.perf_counter()\n",
        "    all_binned_rmse = []\n",
        "    all_cont_rmse = []\n",
        "\n",
        "    for i in range(0, MC):\n",
        "        timer = time.perf_counter()\n",
        "        a = []\n",
        "        b = []\n",
        "        print(f'--Begin Iteration {i+1} / {MC}')\n",
        "        a, b = run_model(hidden_sizes)\n",
        "        all_binned_rmse.append(a)\n",
        "        all_cont_rmse.append(b)\n",
        "        print(f'----Completed in {round(time.perf_counter() - timer,2)}s')\n",
        "    \n",
        "    binned_df = pd.DataFrame(all_binned_rmse)\n",
        "    cont_df = pd.DataFrame(all_cont_rmse)\n",
        "    print(f'----Binned RMSE: {binned_df.mean(axis=0)}')\n",
        "    print(f'----Cont RMSE: {cont_df.mean(axis=0)}')\n",
        "    plot_results(hidden_sizes, binned_df.mean(axis=0), cont_df.mean(axis=0))\n",
        "    print(f'SIMULATION COMPLETED IN {round(time.perf_counter() - full_timer,2)}s')\n",
        "    \n",
        "def run_model(hidden_sizes: list, epochs: int = 10) -> list:\n",
        "    \"\"\"\n",
        "    Creates a neural network with a single hidden layer of a given size trained \n",
        "    on synthetic binned labels and compares performance for the NN and a LM trained\n",
        "    on the predictions from the NN that learns the original continuous response.\n",
        "    - param hidden_sizes: Contains the values for the hidden size layer of the network.\n",
        "    - param epochs: Number of epochs for the network to train on.\n",
        "    \n",
        "    - return: A list of two lists. The first list is the RMSE for each binned model, the\n",
        "        second list is the RMSE for each continuous model.\n",
        "    \"\"\"\n",
        "    binned_rmse = []\n",
        "    cont_rmse = []\n",
        "    for size in hidden_sizes:\n",
        "        model = NeuralNetRegressor(module = NeuralNet2(hidden_size = size), \n",
        "                             max_epochs = epochs,\n",
        "                             criterion = nn.MSELoss, \n",
        "                             optimizer = torch.optim.Adam,\n",
        "                             lr = 0.001,\n",
        "                             batch_size = 128,\n",
        "                             optimizer__weight_decay = 0.001,\n",
        "                             verbose=0)\n",
        "\n",
        "        model.fit(X_train.float(), y_train.reshape(-1, 1))\n",
        "        y_preds = model.predict(X_test.float())\n",
        "#         print(np.isnan(y_preds.any()))\n",
        "#         print(np.isfinite(y_preds.any()))\n",
        "        binned_rmse.append(np.sqrt(mean_squared_error(y_preds, y_test.float())))\n",
        "        LM = NeuralNetRegressor(module = LinearRegression(1,1),\n",
        "                                max_epochs = epochs,\n",
        "                                 criterion = nn.MSELoss, \n",
        "                                 optimizer = torch.optim.Adam,\n",
        "                                 lr = 0.001,\n",
        "                                 batch_size = 128,\n",
        "                                 optimizer__weight_decay = 0.001,\n",
        "                                 verbose=0\n",
        "                               )\n",
        "        ## Pytorch\n",
        "        LM.fit(torch.tensor(y_preds).float(), torch.tensor(y_cont_test).float().reshape(-1,1))\n",
        "        cont_preds = LM.predict(y_preds)\n",
        "        ## Sklearn\n",
        "#         reg = LinearRegression().fit(y_preds, y_cont_test)\n",
        "#         cont_preds = reg.predict(y_preds)\n",
        "        cont_rmse.append(np.sqrt(mean_squared_error(cont_preds, y_cont_test)))\n",
        "    return [binned_rmse, cont_rmse]\n",
        "\n",
        "def plot_results(hidden_sizes: list, binned_rmse: list, cont_rmse: list) -> None:\n",
        "    \"\"\"\n",
        "    Visualizes the performance of the binned models vs the continuous.\n",
        "    - param hidden_sizes: Contains the values for the hidden size layer of the network.\n",
        "    - binned_rmse: Contains the RMSE for each value of hidden_size for the binned model, \n",
        "        averaged across MC simulations.\n",
        "    - cont_rmse: Contains the RMSE for each value of hidden_size for the continuous model, \n",
        "        averaged across MC simulations.\n",
        "    \"\"\"\n",
        "    min_binned = np.argmin(binned_rmse)\n",
        "    min_cont = np.argmin(cont_rmse)\n",
        "    fig, ax1 = plt.subplots() \n",
        "    ax1.set_xlabel('Log10 Hidden Size') \n",
        "    ax1.set_ylabel('Binned RMSE', color = 'blue', alpha = 0.5) \n",
        "    ax1.plot(np.log10(hidden_sizes), binned_rmse, color = 'blue', alpha = 0.5)\n",
        "    ax1.axvline(np.log10(hidden_sizes[min_binned]), color = 'blue', ls = 'dashed')\n",
        "    ax1.tick_params(axis ='y', labelcolor = 'blue') \n",
        "\n",
        "    ax2 = ax1.twinx() \n",
        "    ax2.set_ylabel('Continuous RMSE', color = 'red', alpha = 0.5) \n",
        "    ax2.plot(np.log10(hidden_sizes), cont_rmse, color = 'red', alpha = 0.5)\n",
        "    ax2.axvline(np.log10(hidden_sizes[min_cont]), color = 'red', ls = 'dashed')  \n",
        "    ax2.tick_params(axis ='y', labelcolor = 'red')\n",
        "    plt.show()\n",
        "    \n",
        "##TODO: Check scatterplot of preds vs true\n",
        "##TODO: "
      ]
    },
    {
      "cell_type": "code",
      "execution_count": null,
      "id": "ddce36e4",
      "metadata": {
        "id": "ddce36e4",
        "outputId": "845b7352-e39d-4303-e5e8-fb2850ef9bc5"
      },
      "outputs": [
        {
          "name": "stdout",
          "output_type": "stream",
          "text": [
            "STARTING SIMULATION WITH 60 SIZES...\n",
            "--Begin Iteration 1 / 2\n",
            "----Completed in 383.52s\n",
            "--Begin Iteration 2 / 2\n",
            "----Completed in 374.49s\n",
            "----Binned RMSE: 0     2.126411\n",
            "1     1.501643\n",
            "2     1.820141\n",
            "3     2.270607\n",
            "4     2.175245\n",
            "5     1.426715\n",
            "6     2.704439\n",
            "7     1.534534\n",
            "8     1.438872\n",
            "9     2.000069\n",
            "10    1.579138\n",
            "11    2.043282\n",
            "12    1.077830\n",
            "13    2.281479\n",
            "14    1.374946\n",
            "15    1.446059\n",
            "16    1.273777\n",
            "17    1.851661\n",
            "18    1.461330\n",
            "19    1.334018\n",
            "20    1.684882\n",
            "21    1.101394\n",
            "22    1.332288\n",
            "23    1.589978\n",
            "24    1.554867\n",
            "25    1.307173\n",
            "26    6.423976\n",
            "27    1.317275\n",
            "28    1.707945\n",
            "29    1.154540\n",
            "30    1.680894\n",
            "31    3.254846\n",
            "32    1.567855\n",
            "33    1.889099\n",
            "34    3.343105\n",
            "35    1.980064\n",
            "36    1.899307\n",
            "37    1.972897\n",
            "38    1.300236\n",
            "39    1.586312\n",
            "40    2.029140\n",
            "41    1.980682\n",
            "42    2.136429\n",
            "43    4.350653\n",
            "44    8.151073\n",
            "45    5.284857\n",
            "46    1.227079\n",
            "47    1.505408\n",
            "48    3.374414\n",
            "49    5.200469\n",
            "50    1.802465\n",
            "51    7.575781\n",
            "52    3.024168\n",
            "53    1.687874\n",
            "54    2.179607\n",
            "55    3.038040\n",
            "56    4.825055\n",
            "57    1.737072\n",
            "58    1.746813\n",
            "59    2.055217\n",
            "dtype: float32\n",
            "----Cont RMSE: 0     39.335765\n",
            "1     39.072142\n",
            "2     39.219084\n",
            "3     38.690540\n",
            "4     40.099149\n",
            "5     38.426069\n",
            "6     39.947361\n",
            "7     38.554023\n",
            "8     39.656716\n",
            "9     39.315603\n",
            "10    37.182018\n",
            "11    38.947372\n",
            "12    37.000602\n",
            "13    39.840378\n",
            "14    38.787851\n",
            "15    40.314756\n",
            "16    39.008244\n",
            "17    39.754388\n",
            "18    38.108801\n",
            "19    38.384701\n",
            "20    40.273004\n",
            "21    38.379222\n",
            "22    39.220734\n",
            "23    39.135198\n",
            "24    38.679894\n",
            "25    39.177854\n",
            "26    36.454093\n",
            "27    39.482979\n",
            "28    39.333470\n",
            "29    38.868033\n",
            "30    38.848482\n",
            "31    40.305708\n",
            "32    39.545252\n",
            "33    40.147834\n",
            "34    39.856925\n",
            "35    40.071449\n",
            "36    38.834895\n",
            "37    36.893216\n",
            "38    38.621683\n",
            "39    39.784081\n",
            "40    40.526883\n",
            "41    38.467363\n",
            "42    40.066473\n",
            "43    37.353448\n",
            "44    35.035691\n",
            "45    39.756939\n",
            "46    37.844806\n",
            "47    37.846385\n",
            "48    38.871453\n",
            "49    39.499534\n",
            "50    40.713173\n",
            "51    37.407453\n",
            "52    36.061506\n",
            "53    40.365930\n",
            "54    40.184359\n",
            "55    39.938841\n",
            "56    36.199144\n",
            "57    37.823880\n",
            "58    38.772431\n",
            "59    38.885925\n",
            "dtype: float64\n"
          ]
        },
        {
          "data": {
            "image/png": "[encoded data removed]",
            "text/plain": [
              "<Figure size 640x480 with 2 Axes>"
            ]
          },
          "metadata": {},
          "output_type": "display_data"
        },
        {
          "name": "stdout",
          "output_type": "stream",
          "text": [
            "SIMULATION COMPLETED IN 758.17s\n"
          ]
        }
      ],
      "source": [
        "hidden = np.unique([round(10**x) for x in np.arange(0.70, 3.2, 0.04)])\n",
        "run_simulation(MC = 20, hidden_sizes = hidden, epochs=50)"
      ]
    },
    {
      "cell_type": "code",
      "execution_count": null,
      "id": "47c7aa70",
      "metadata": {
        "colab": {
          "base_uri": "https://localhost:8080/",
          "height": 1000
        },
        "id": "47c7aa70",
        "outputId": "4f33c731-b628-48c8-e901-c6a6c95ad0f3",
        "scrolled": true
      },
      "outputs": [
        {
          "name": "stdout",
          "output_type": "stream",
          "text": [
            "STARTING SIMULATION WITH 30 SIZES...\n",
            "--Begin Iteration 1 / 50\n",
            "----Completed in 33.87s\n",
            "--Begin Iteration 2 / 50\n",
            "----Completed in 33.63s\n",
            "--Begin Iteration 3 / 50\n",
            "----Completed in 33.86s\n",
            "--Begin Iteration 4 / 50\n",
            "----Completed in 33.94s\n",
            "--Begin Iteration 5 / 50\n",
            "----Completed in 33.65s\n",
            "--Begin Iteration 6 / 50\n",
            "----Completed in 33.82s\n",
            "--Begin Iteration 7 / 50\n",
            "----Completed in 33.93s\n",
            "--Begin Iteration 8 / 50\n",
            "----Completed in 33.91s\n",
            "--Begin Iteration 9 / 50\n",
            "----Completed in 33.95s\n",
            "--Begin Iteration 10 / 50\n",
            "----Completed in 33.78s\n",
            "--Begin Iteration 11 / 50\n",
            "----Completed in 33.95s\n",
            "--Begin Iteration 12 / 50\n",
            "----Completed in 33.78s\n",
            "--Begin Iteration 13 / 50\n",
            "----Completed in 33.89s\n",
            "--Begin Iteration 14 / 50\n",
            "----Completed in 33.76s\n",
            "--Begin Iteration 15 / 50\n",
            "----Completed in 33.86s\n",
            "--Begin Iteration 16 / 50\n",
            "----Completed in 34.28s\n",
            "--Begin Iteration 17 / 50\n",
            "----Completed in 33.99s\n",
            "--Begin Iteration 18 / 50\n",
            "----Completed in 34.11s\n",
            "--Begin Iteration 19 / 50\n",
            "----Completed in 33.92s\n",
            "--Begin Iteration 20 / 50\n",
            "----Completed in 33.85s\n",
            "--Begin Iteration 21 / 50\n",
            "----Completed in 34.02s\n",
            "--Begin Iteration 22 / 50\n",
            "----Completed in 33.96s\n",
            "--Begin Iteration 23 / 50\n",
            "----Completed in 33.99s\n",
            "--Begin Iteration 24 / 50\n",
            "----Completed in 34.02s\n",
            "--Begin Iteration 25 / 50\n",
            "----Completed in 33.93s\n",
            "--Begin Iteration 26 / 50\n",
            "----Completed in 34.17s\n",
            "--Begin Iteration 27 / 50\n",
            "----Completed in 34.22s\n",
            "--Begin Iteration 28 / 50\n",
            "----Completed in 34.05s\n",
            "--Begin Iteration 29 / 50\n",
            "----Completed in 33.82s\n",
            "--Begin Iteration 30 / 50\n",
            "----Completed in 33.99s\n",
            "--Begin Iteration 31 / 50\n",
            "----Completed in 34.09s\n",
            "--Begin Iteration 32 / 50\n",
            "----Completed in 33.77s\n",
            "--Begin Iteration 33 / 50\n",
            "----Completed in 33.9s\n",
            "--Begin Iteration 34 / 50\n",
            "----Completed in 33.82s\n",
            "--Begin Iteration 35 / 50\n",
            "----Completed in 33.78s\n",
            "--Begin Iteration 36 / 50\n",
            "----Completed in 34.02s\n",
            "--Begin Iteration 37 / 50\n",
            "----Completed in 34.03s\n",
            "--Begin Iteration 38 / 50\n",
            "----Completed in 33.91s\n",
            "--Begin Iteration 39 / 50\n",
            "----Completed in 33.82s\n",
            "--Begin Iteration 40 / 50\n",
            "----Completed in 33.88s\n",
            "--Begin Iteration 41 / 50\n",
            "----Completed in 33.96s\n",
            "--Begin Iteration 42 / 50\n",
            "----Completed in 34.0s\n",
            "--Begin Iteration 43 / 50\n",
            "----Completed in 34.23s\n",
            "--Begin Iteration 44 / 50\n",
            "----Completed in 34.09s\n",
            "--Begin Iteration 45 / 50\n",
            "----Completed in 34.14s\n",
            "--Begin Iteration 46 / 50\n",
            "----Completed in 34.49s\n",
            "--Begin Iteration 47 / 50\n",
            "----Completed in 34.08s\n",
            "--Begin Iteration 48 / 50\n",
            "----Completed in 34.23s\n",
            "--Begin Iteration 49 / 50\n",
            "----Completed in 34.07s\n",
            "--Begin Iteration 50 / 50\n",
            "----Completed in 33.99s\n"
          ]
        },
        {
          "data": {
            "image/png": "[encoded data removed]",
            "text/plain": [
              "<Figure size 432x288 with 2 Axes>"
            ]
          },
          "metadata": {
            "needs_background": "light"
          },
          "output_type": "display_data"
        },
        {
          "name": "stdout",
          "output_type": "stream",
          "text": [
            "SIMULATION COMPLETED IN 1698.41s\n"
          ]
        }
      ],
      "source": [
        "hidden = [round(10**x) for x in np.arange(0.70, 3, 0.04)]\n",
        "run_simulation(MC = 50, hidden_sizes = hidden, epochs=50)"
      ]
    },
    {
      "cell_type": "code",
      "execution_count": null,
      "id": "6miQJL9CczQr",
      "metadata": {
        "colab": {
          "base_uri": "https://localhost:8080/",
          "height": 487
        },
        "collapsed": true,
        "id": "6miQJL9CczQr",
        "outputId": "c861526e-fe1f-4f38-a172-fc37a7a2e9ae"
      },
      "outputs": [
        {
          "name": "stdout",
          "output_type": "stream",
          "text": [
            "STARTING SIMULATION WITH 8 SIZES...\n",
            "--Begin Iteration 1 / 5\n",
            "----Completed in 21.0s\n",
            "--Begin Iteration 2 / 5\n",
            "----Completed in 23.49s\n",
            "--Begin Iteration 3 / 5\n",
            "----Completed in 23.5s\n",
            "--Begin Iteration 4 / 5\n",
            "----Completed in 22.92s\n",
            "--Begin Iteration 5 / 5\n",
            "----Completed in 23.21s\n"
          ]
        },
        {
          "data": {
            "image/png": "[encoded data removed]",
            "text/plain": [
              "<Figure size 432x288 with 2 Axes>"
            ]
          },
          "metadata": {
            "needs_background": "light"
          },
          "output_type": "display_data"
        },
        {
          "name": "stdout",
          "output_type": "stream",
          "text": [
            "SIMULATION COMPLETED IN 114.34s\n"
          ]
        }
      ],
      "source": [
        "hidden = [round(10**x) for x in np.arange(0, 4, 0.5)]\n",
        "run_simulation(MC = 5, hidden_sizes = hidden, epochs=50)"
      ]
    },
    {
      "cell_type": "code",
      "execution_count": null,
      "id": "Zha5Md8WhXB9",
      "metadata": {
        "colab": {
          "base_uri": "https://localhost:8080/",
          "height": 487
        },
        "collapsed": true,
        "id": "Zha5Md8WhXB9",
        "outputId": "1ccdf699-b81e-4f55-e790-2c2657a44d9a"
      },
      "outputs": [
        {
          "name": "stdout",
          "output_type": "stream",
          "text": [
            "STARTING SIMULATION WITH 8 SIZES...\n",
            "--Begin Iteration 1 / 5\n",
            "----Completed in 23.49s\n",
            "--Begin Iteration 2 / 5\n",
            "----Completed in 23.21s\n",
            "--Begin Iteration 3 / 5\n",
            "----Completed in 23.14s\n",
            "--Begin Iteration 4 / 5\n",
            "----Completed in 23.44s\n",
            "--Begin Iteration 5 / 5\n",
            "----Completed in 23.38s\n"
          ]
        },
        {
          "data": {
            "image/png": "[encoded data removed]",
            "text/plain": [
              "<Figure size 432x288 with 2 Axes>"
            ]
          },
          "metadata": {
            "needs_background": "light"
          },
          "output_type": "display_data"
        },
        {
          "name": "stdout",
          "output_type": "stream",
          "text": [
            "SIMULATION COMPLETED IN 116.86s\n"
          ]
        }
      ],
      "source": [
        "hidden = [round(10**x) for x in np.arange(0, 4, 0.5)]\n",
        "run_simulation(MC = 5, hidden_sizes = hidden, epochs=50)"
      ]
    },
    {
      "cell_type": "markdown",
      "id": "BCcawxPcMua0",
      "metadata": {
        "id": "BCcawxPcMua0"
      },
      "source": [
        "Test to see how long a run will take with different numbers of epochs"
      ]
    },
    {
      "cell_type": "code",
      "execution_count": null,
      "id": "_76IqMtDKGZ4",
      "metadata": {
        "colab": {
          "base_uri": "https://localhost:8080/",
          "height": 352
        },
        "collapsed": true,
        "id": "_76IqMtDKGZ4",
        "outputId": "3203ea2c-dc3f-42b9-d40b-9fd6fba2d407"
      },
      "outputs": [
        {
          "name": "stdout",
          "output_type": "stream",
          "text": [
            "STARTING SIMULATION WITH 30 SIZES...\n",
            "--Begin Iteration 1 / 1\n",
            "----Completed in 48.51s\n"
          ]
        },
        {
          "data": {
            "image/png": "[encoded data removed]",
            "text/plain": [
              "<Figure size 432x288 with 2 Axes>"
            ]
          },
          "metadata": {
            "needs_background": "light"
          },
          "output_type": "display_data"
        },
        {
          "name": "stdout",
          "output_type": "stream",
          "text": [
            "SIMULATION COMPLETED IN 48.75s\n"
          ]
        }
      ],
      "source": [
        "hidden = [round(10**x) for x in np.arange(0, 3, 0.1)]\n",
        "run_simulation(MC = 1, hidden_sizes=hidden)\n",
        "\n",
        "# 10 epochs"
      ]
    },
    {
      "cell_type": "code",
      "execution_count": null,
      "id": "3JYcegnJ7Aak",
      "metadata": {
        "colab": {
          "base_uri": "https://localhost:8080/",
          "height": 348
        },
        "collapsed": true,
        "id": "3JYcegnJ7Aak",
        "outputId": "d05bd3c6-6816-4d0d-feb7-5097c8dd7bca"
      },
      "outputs": [
        {
          "name": "stdout",
          "output_type": "stream",
          "text": [
            "STARTING SIMULATION WITH 30 SIZES...\n",
            "--Begin Iteration 1 / 1\n",
            "----Completed in 48.34s\n"
          ]
        },
        {
          "data": {
            "image/png": "[encoded data removed]",
            "text/plain": [
              "<Figure size 432x288 with 2 Axes>"
            ]
          },
          "metadata": {
            "needs_background": "light"
          },
          "output_type": "display_data"
        },
        {
          "name": "stdout",
          "output_type": "stream",
          "text": [
            "SIMULATION COMPLETED IN 48.58s\n"
          ]
        }
      ],
      "source": [
        "hidden = [round(10**x) for x in np.arange(0, 3, 0.1)]\n",
        "run_simulation(MC = 1, hidden_sizes=hidden, epochs=30)"
      ]
    },
    {
      "cell_type": "code",
      "execution_count": null,
      "id": "UGtRVgaT7Y01",
      "metadata": {
        "colab": {
          "base_uri": "https://localhost:8080/",
          "height": 348
        },
        "collapsed": true,
        "id": "UGtRVgaT7Y01",
        "outputId": "2fa37b42-dfb5-4309-961b-9dc3fd34314f"
      },
      "outputs": [
        {
          "name": "stdout",
          "output_type": "stream",
          "text": [
            "STARTING SIMULATION WITH 30 SIZES...\n",
            "--Begin Iteration 1 / 1\n",
            "----Completed in 48.64s\n"
          ]
        },
        {
          "data": {
            "image/png": "[encoded data removed]",
            "text/plain": [
              "<Figure size 432x288 with 2 Axes>"
            ]
          },
          "metadata": {
            "needs_background": "light"
          },
          "output_type": "display_data"
        },
        {
          "name": "stdout",
          "output_type": "stream",
          "text": [
            "SIMULATION COMPLETED IN 48.89s\n"
          ]
        }
      ],
      "source": [
        "hidden = [round(10**x) for x in np.arange(0, 3, 0.1)]\n",
        "run_simulation(MC = 1, hidden_sizes=hidden, epochs=50)"
      ]
    },
    {
      "cell_type": "code",
      "execution_count": null,
      "id": "DCpHRR_JyBhT",
      "metadata": {
        "colab": {
          "base_uri": "https://localhost:8080/",
          "height": 1000
        },
        "id": "DCpHRR_JyBhT",
        "outputId": "37f83813-c982-4059-f3b6-10df2da92947"
      },
      "outputs": [
        {
          "name": "stdout",
          "output_type": "stream",
          "text": [
            "STARTING SIMULATION WITH 7 SIZES...\n",
            "--Begin Iteration 1 / 50\n",
            "----Completed in 70.35s\n",
            "--Begin Iteration 2 / 50\n",
            "----Completed in 67.87s\n",
            "--Begin Iteration 3 / 50\n",
            "----Completed in 67.67s\n",
            "--Begin Iteration 4 / 50\n",
            "----Completed in 70.74s\n",
            "--Begin Iteration 5 / 50\n",
            "----Completed in 67.89s\n",
            "--Begin Iteration 6 / 50\n",
            "----Completed in 67.89s\n",
            "--Begin Iteration 7 / 50\n",
            "----Completed in 68.25s\n",
            "--Begin Iteration 8 / 50\n",
            "----Completed in 67.91s\n",
            "--Begin Iteration 9 / 50\n",
            "----Completed in 68.08s\n",
            "--Begin Iteration 10 / 50\n",
            "----Completed in 69.11s\n",
            "--Begin Iteration 11 / 50\n",
            "----Completed in 70.22s\n",
            "--Begin Iteration 12 / 50\n",
            "----Completed in 70.76s\n",
            "--Begin Iteration 13 / 50\n",
            "----Completed in 70.86s\n",
            "--Begin Iteration 14 / 50\n",
            "----Completed in 70.82s\n",
            "--Begin Iteration 15 / 50\n",
            "----Completed in 68.44s\n",
            "--Begin Iteration 16 / 50\n",
            "----Completed in 71.69s\n",
            "--Begin Iteration 17 / 50\n",
            "----Completed in 68.3s\n",
            "--Begin Iteration 18 / 50\n",
            "----Completed in 68.59s\n",
            "--Begin Iteration 19 / 50\n",
            "----Completed in 67.88s\n",
            "--Begin Iteration 20 / 50\n",
            "----Completed in 68.55s\n",
            "--Begin Iteration 21 / 50\n",
            "----Completed in 68.61s\n",
            "--Begin Iteration 22 / 50\n",
            "----Completed in 72.07s\n",
            "--Begin Iteration 23 / 50\n",
            "----Completed in 71.8s\n",
            "--Begin Iteration 24 / 50\n",
            "----Completed in 69.62s\n",
            "--Begin Iteration 25 / 50\n",
            "----Completed in 66.49s\n",
            "--Begin Iteration 26 / 50\n",
            "----Completed in 69.87s\n",
            "--Begin Iteration 27 / 50\n",
            "----Completed in 66.25s\n",
            "--Begin Iteration 28 / 50\n",
            "----Completed in 66.05s\n",
            "--Begin Iteration 29 / 50\n",
            "----Completed in 69.27s\n",
            "--Begin Iteration 30 / 50\n",
            "----Completed in 65.97s\n",
            "--Begin Iteration 31 / 50\n",
            "----Completed in 67.13s\n",
            "--Begin Iteration 32 / 50\n",
            "----Completed in 67.84s\n",
            "--Begin Iteration 33 / 50\n",
            "----Completed in 66.39s\n",
            "--Begin Iteration 34 / 50\n",
            "----Completed in 65.97s\n",
            "--Begin Iteration 35 / 50\n",
            "----Completed in 68.9s\n",
            "--Begin Iteration 36 / 50\n",
            "----Completed in 68.0s\n",
            "--Begin Iteration 37 / 50\n",
            "----Completed in 68.38s\n",
            "--Begin Iteration 38 / 50\n",
            "----Completed in 66.27s\n",
            "--Begin Iteration 39 / 50\n",
            "----Completed in 68.5s\n",
            "--Begin Iteration 40 / 50\n",
            "----Completed in 69.93s\n",
            "--Begin Iteration 41 / 50\n",
            "----Completed in 69.63s\n",
            "--Begin Iteration 42 / 50\n",
            "----Completed in 69.51s\n",
            "--Begin Iteration 43 / 50\n",
            "----Completed in 68.13s\n",
            "--Begin Iteration 44 / 50\n",
            "----Completed in 68.22s\n",
            "--Begin Iteration 45 / 50\n",
            "----Completed in 68.2s\n",
            "--Begin Iteration 46 / 50\n",
            "----Completed in 68.18s\n",
            "--Begin Iteration 47 / 50\n",
            "----Completed in 66.01s\n",
            "--Begin Iteration 48 / 50\n",
            "----Completed in 66.43s\n",
            "--Begin Iteration 49 / 50\n",
            "----Completed in 68.26s\n",
            "--Begin Iteration 50 / 50\n",
            "----Completed in 65.89s\n",
            "----Binned RMSE: 0     10.138232\n",
            "1      1.639026\n",
            "2      1.501077\n",
            "3      2.006415\n",
            "4      2.153386\n",
            "5      6.996843\n",
            "6    109.530609\n",
            "dtype: float32\n",
            "----Cont RMSE: 0    38.791410\n",
            "1    38.698888\n",
            "2    38.692552\n",
            "3    38.934389\n",
            "4    38.711698\n",
            "5    37.504531\n",
            "6    33.993853\n",
            "dtype: float64\n"
          ]
        },
        {
          "data": {
            "image/png": "[encoded data removed]",
            "text/plain": [
              "<Figure size 432x288 with 2 Axes>"
            ]
          },
          "metadata": {
            "needs_background": "light"
          },
          "output_type": "display_data"
        },
        {
          "name": "stdout",
          "output_type": "stream",
          "text": [
            "SIMULATION COMPLETED IN 3423.88s\n"
          ]
        }
      ],
      "source": [
        "hidden = [round(10**x) for x in np.arange(0.7, 4, 0.5)]\n",
        "run_simulation(MC = 50, hidden_sizes=hidden, epochs=50)"
      ]
    },
    {
      "cell_type": "code",
      "execution_count": null,
      "id": "Cc6ez2CpHdgo",
      "metadata": {
        "colab": {
          "base_uri": "https://localhost:8080/",
          "height": 905
        },
        "id": "Cc6ez2CpHdgo",
        "outputId": "fcc4dd8c-c518-4eab-a934-2ca67a469e04"
      },
      "outputs": [
        {
          "name": "stdout",
          "output_type": "stream",
          "text": [
            "STARTING SIMULATION WITH 6 SIZES...\n",
            "--Begin Iteration 1 / 10\n",
            "----Completed in 678.32s\n",
            "--Begin Iteration 2 / 10\n",
            "----Completed in 675.62s\n",
            "--Begin Iteration 3 / 10\n",
            "----Completed in 633.53s\n",
            "--Begin Iteration 4 / 10\n",
            "----Completed in 638.2s\n",
            "--Begin Iteration 5 / 10\n",
            "----Completed in 637.37s\n",
            "--Begin Iteration 6 / 10\n",
            "----Completed in 632.93s\n",
            "--Begin Iteration 7 / 10\n",
            "----Completed in 631.0s\n",
            "--Begin Iteration 8 / 10\n",
            "----Completed in 630.52s\n",
            "--Begin Iteration 9 / 10\n",
            "----Completed in 629.6s\n",
            "--Begin Iteration 10 / 10\n",
            "----Completed in 630.05s\n",
            "----Binned RMSE: 0      8.660580\n",
            "1      2.003097\n",
            "2      2.763899\n",
            "3      1.821265\n",
            "4    101.036232\n",
            "5    338.115723\n",
            "dtype: float32\n",
            "----Cont RMSE: 0    39.429647\n",
            "1    39.440889\n",
            "2    38.927568\n",
            "3    39.146371\n",
            "4    34.299470\n",
            "5    34.486445\n",
            "dtype: float64\n"
          ]
        },
        {
          "data": {
            "image/png": "[encoded data removed]",
            "text/plain": [
              "<Figure size 432x288 with 2 Axes>"
            ]
          },
          "metadata": {
            "needs_background": "light"
          },
          "output_type": "display_data"
        },
        {
          "name": "stdout",
          "output_type": "stream",
          "text": [
            "SIMULATION COMPLETED IN 6417.35s\n"
          ]
        }
      ],
      "source": [
        "hidden = [round(10**x) for x in np.arange(0.65, 4.75, 0.75)]\n",
        "run_simulation(MC = 10, hidden_sizes=hidden, epochs=50)"
      ]
    }
  ],
  "metadata": {
    "accelerator": "GPU",
    "colab": {
      "provenance": []
    },
    "gpuClass": "premium",
    "kernelspec": {
      "display_name": "Python 3 (ipykernel)",
      "language": "python",
      "name": "python3"
    },
    "language_info": {
      "codemirror_mode": {
        "name": "ipython",
        "version": 3
      },
      "file_extension": ".py",
      "mimetype": "text/x-python",
      "name": "python",
      "nbconvert_exporter": "python",
      "pygments_lexer": "ipython3",
      "version": "3.7.13"
    }
  },
  "nbformat": 4,
  "nbformat_minor": 5
}