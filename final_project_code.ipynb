{
 "cells": [
  {
   "cell_type": "markdown",
   "id": "7b2170b0",
   "metadata": {
    "id": "7b2170b0"
   },
   "source": [
    "# Deep Learning Final Project"
   ]
  },
  {
   "cell_type": "markdown",
   "id": "228890fe",
   "metadata": {
    "id": "228890fe"
   },
   "source": [
    "#### McKade Thomas\n",
    "#### Brian Nalley"
   ]
  },
  {
   "cell_type": "code",
   "execution_count": 9,
   "id": "dfadee3d",
   "metadata": {
    "id": "dfadee3d"
   },
   "outputs": [],
   "source": [
    "import pandas as pd\n",
    "import numpy as np\n",
    "import matplotlib.pyplot as plt\n",
    "import seaborn as sns\n",
    "import torch\n",
    "import torch.nn as nn\n",
    "from sklearn.model_selection import train_test_split\n",
    "from sklearn.metrics import mean_squared_error\n",
    "from sklearn.linear_model import LinearRegression\n",
    "import tensorflow as tf\n",
    "\n",
    "import time\n",
    "import torch\n",
    "import torch.nn as nn\n",
    "import torch.nn.functional as F\n",
    "import torch.optim as optim\n",
    "import torchvision\n",
    "from torchvision import datasets, transforms\n",
    "from skorch import NeuralNetRegressor"
   ]
  },
  {
   "cell_type": "code",
   "execution_count": 2,
   "id": "73d49e47",
   "metadata": {
    "id": "73d49e47",
    "outputId": "e060fec6-b40d-478f-ae57-07b1cd515b75"
   },
   "outputs": [
    {
     "data": {
      "text/html": [
       "<div>\n",
       "<style scoped>\n",
       "    .dataframe tbody tr th:only-of-type {\n",
       "        vertical-align: middle;\n",
       "    }\n",
       "\n",
       "    .dataframe tbody tr th {\n",
       "        vertical-align: top;\n",
       "    }\n",
       "\n",
       "    .dataframe thead th {\n",
       "        text-align: right;\n",
       "    }\n",
       "</style>\n",
       "<table border=\"1\" class=\"dataframe\">\n",
       "  <thead>\n",
       "    <tr style=\"text-align: right;\">\n",
       "      <th></th>\n",
       "      <th>class</th>\n",
       "      <th>Usage</th>\n",
       "      <th>Lagging_Current_Reactive.Power_kVarh</th>\n",
       "      <th>Leading_Current_Reactive_Power_kVarh</th>\n",
       "      <th>CO2.tCO2.</th>\n",
       "      <th>Lagging_Current_Power_Factor</th>\n",
       "      <th>Leading_Current_Power_Factor</th>\n",
       "      <th>NSM</th>\n",
       "      <th>WeekStatus_Weekday</th>\n",
       "      <th>WeekStatus_Weekend</th>\n",
       "      <th>Day_of_week_Friday</th>\n",
       "      <th>Day_of_week_Monday</th>\n",
       "      <th>Day_of_week_Saturday</th>\n",
       "      <th>Day_of_week_Sunday</th>\n",
       "      <th>Day_of_week_Thursday</th>\n",
       "      <th>Day_of_week_Tuesday</th>\n",
       "      <th>Day_of_week_Wednesday</th>\n",
       "      <th>Load_Type_Light_Load</th>\n",
       "      <th>Load_Type_Maximum_Load</th>\n",
       "      <th>Load_Type_Medium_Load</th>\n",
       "    </tr>\n",
       "  </thead>\n",
       "  <tbody>\n",
       "    <tr>\n",
       "      <th>0</th>\n",
       "      <td>1</td>\n",
       "      <td>3.06</td>\n",
       "      <td>3.24</td>\n",
       "      <td>0.0</td>\n",
       "      <td>0.0</td>\n",
       "      <td>68.66</td>\n",
       "      <td>100.0</td>\n",
       "      <td>16200</td>\n",
       "      <td>1</td>\n",
       "      <td>0</td>\n",
       "      <td>0</td>\n",
       "      <td>0</td>\n",
       "      <td>0</td>\n",
       "      <td>0</td>\n",
       "      <td>0</td>\n",
       "      <td>0</td>\n",
       "      <td>1</td>\n",
       "      <td>1</td>\n",
       "      <td>0</td>\n",
       "      <td>0</td>\n",
       "    </tr>\n",
       "    <tr>\n",
       "      <th>1</th>\n",
       "      <td>1</td>\n",
       "      <td>3.06</td>\n",
       "      <td>2.34</td>\n",
       "      <td>0.0</td>\n",
       "      <td>0.0</td>\n",
       "      <td>79.44</td>\n",
       "      <td>100.0</td>\n",
       "      <td>0</td>\n",
       "      <td>1</td>\n",
       "      <td>0</td>\n",
       "      <td>0</td>\n",
       "      <td>0</td>\n",
       "      <td>0</td>\n",
       "      <td>0</td>\n",
       "      <td>0</td>\n",
       "      <td>0</td>\n",
       "      <td>1</td>\n",
       "      <td>1</td>\n",
       "      <td>0</td>\n",
       "      <td>0</td>\n",
       "    </tr>\n",
       "    <tr>\n",
       "      <th>2</th>\n",
       "      <td>1</td>\n",
       "      <td>3.02</td>\n",
       "      <td>3.31</td>\n",
       "      <td>0.0</td>\n",
       "      <td>0.0</td>\n",
       "      <td>67.40</td>\n",
       "      <td>100.0</td>\n",
       "      <td>27900</td>\n",
       "      <td>1</td>\n",
       "      <td>0</td>\n",
       "      <td>0</td>\n",
       "      <td>1</td>\n",
       "      <td>0</td>\n",
       "      <td>0</td>\n",
       "      <td>0</td>\n",
       "      <td>0</td>\n",
       "      <td>0</td>\n",
       "      <td>1</td>\n",
       "      <td>0</td>\n",
       "      <td>0</td>\n",
       "    </tr>\n",
       "    <tr>\n",
       "      <th>3</th>\n",
       "      <td>1</td>\n",
       "      <td>2.81</td>\n",
       "      <td>4.10</td>\n",
       "      <td>0.0</td>\n",
       "      <td>0.0</td>\n",
       "      <td>56.53</td>\n",
       "      <td>100.0</td>\n",
       "      <td>31500</td>\n",
       "      <td>1</td>\n",
       "      <td>0</td>\n",
       "      <td>0</td>\n",
       "      <td>0</td>\n",
       "      <td>0</td>\n",
       "      <td>0</td>\n",
       "      <td>0</td>\n",
       "      <td>1</td>\n",
       "      <td>0</td>\n",
       "      <td>1</td>\n",
       "      <td>0</td>\n",
       "      <td>0</td>\n",
       "    </tr>\n",
       "    <tr>\n",
       "      <th>4</th>\n",
       "      <td>1</td>\n",
       "      <td>3.10</td>\n",
       "      <td>3.20</td>\n",
       "      <td>0.0</td>\n",
       "      <td>0.0</td>\n",
       "      <td>69.58</td>\n",
       "      <td>100.0</td>\n",
       "      <td>16200</td>\n",
       "      <td>0</td>\n",
       "      <td>1</td>\n",
       "      <td>0</td>\n",
       "      <td>0</td>\n",
       "      <td>1</td>\n",
       "      <td>0</td>\n",
       "      <td>0</td>\n",
       "      <td>0</td>\n",
       "      <td>0</td>\n",
       "      <td>1</td>\n",
       "      <td>0</td>\n",
       "      <td>0</td>\n",
       "    </tr>\n",
       "  </tbody>\n",
       "</table>\n",
       "</div>"
      ],
      "text/plain": [
       "   class  Usage  Lagging_Current_Reactive.Power_kVarh  \\\n",
       "0      1   3.06                                  3.24   \n",
       "1      1   3.06                                  2.34   \n",
       "2      1   3.02                                  3.31   \n",
       "3      1   2.81                                  4.10   \n",
       "4      1   3.10                                  3.20   \n",
       "\n",
       "   Leading_Current_Reactive_Power_kVarh  CO2.tCO2.  \\\n",
       "0                                   0.0        0.0   \n",
       "1                                   0.0        0.0   \n",
       "2                                   0.0        0.0   \n",
       "3                                   0.0        0.0   \n",
       "4                                   0.0        0.0   \n",
       "\n",
       "   Lagging_Current_Power_Factor  Leading_Current_Power_Factor    NSM  \\\n",
       "0                         68.66                         100.0  16200   \n",
       "1                         79.44                         100.0      0   \n",
       "2                         67.40                         100.0  27900   \n",
       "3                         56.53                         100.0  31500   \n",
       "4                         69.58                         100.0  16200   \n",
       "\n",
       "   WeekStatus_Weekday  WeekStatus_Weekend  Day_of_week_Friday  \\\n",
       "0                   1                   0                   0   \n",
       "1                   1                   0                   0   \n",
       "2                   1                   0                   0   \n",
       "3                   1                   0                   0   \n",
       "4                   0                   1                   0   \n",
       "\n",
       "   Day_of_week_Monday  Day_of_week_Saturday  Day_of_week_Sunday  \\\n",
       "0                   0                     0                   0   \n",
       "1                   0                     0                   0   \n",
       "2                   1                     0                   0   \n",
       "3                   0                     0                   0   \n",
       "4                   0                     1                   0   \n",
       "\n",
       "   Day_of_week_Thursday  Day_of_week_Tuesday  Day_of_week_Wednesday  \\\n",
       "0                     0                    0                      1   \n",
       "1                     0                    0                      1   \n",
       "2                     0                    0                      0   \n",
       "3                     0                    1                      0   \n",
       "4                     0                    0                      0   \n",
       "\n",
       "   Load_Type_Light_Load  Load_Type_Maximum_Load  Load_Type_Medium_Load  \n",
       "0                     1                       0                      0  \n",
       "1                     1                       0                      0  \n",
       "2                     1                       0                      0  \n",
       "3                     1                       0                      0  \n",
       "4                     1                       0                      0  "
      ]
     },
     "execution_count": 2,
     "metadata": {},
     "output_type": "execute_result"
    }
   ],
   "source": [
    "# Read in the data\n",
    "df = pd.read_csv(\"steel_data_5_classes.csv\")\n",
    "df.head()"
   ]
  },
  {
   "cell_type": "code",
   "execution_count": 3,
   "id": "6504d377",
   "metadata": {},
   "outputs": [],
   "source": [
    "cat_cols = ['class', 'WeekStatus_Weekday', 'WeekStatus_Weekend', 'Day_of_week_Friday',\n",
    "            'Day_of_week_Monday', 'Day_of_week_Saturday', 'Day_of_week_Sunday',\n",
    "            'Day_of_week_Thursday', 'Day_of_week_Tuesday', 'Day_of_week_Wednesday',\n",
    "            'Load_Type_Light_Load', 'Load_Type_Maximum_Load', 'Load_Type_Medium_Load']\n",
    "\n",
    "for col in cat_cols:\n",
    "    df[col] = df[col].astype('category')"
   ]
  },
  {
   "cell_type": "markdown",
   "id": "6c4ac3dc",
   "metadata": {},
   "source": [
    "## EDA"
   ]
  },
  {
   "cell_type": "code",
   "execution_count": 52,
   "id": "f75d31c0",
   "metadata": {
    "id": "f75d31c0"
   },
   "outputs": [
    {
     "data": {
      "image/png": "[encoded data removed]",
      "text/plain": [
       "<Figure size 640x480 with 1 Axes>"
      ]
     },
     "metadata": {},
     "output_type": "display_data"
    }
   ],
   "source": [
    "# EDA - McKade\n",
    "plt.xlabel('Usage')\n",
    "plt.ylabel('Frequency')\n",
    "plt.title('Histogram of Energy Usage')\n",
    "n, bins, patches = plt.hist(\"Usage\", 50, data = df, facecolor='blue', alpha=0.5)\n",
    "\n",
    "# Tweak spacing to prevent clipping of ylabel\n",
    "plt.subplots_adjust(left=0.15)\n",
    "plt.show()"
   ]
  },
  {
   "cell_type": "code",
   "execution_count": 53,
   "id": "796db905",
   "metadata": {},
   "outputs": [
    {
     "data": {
      "text/html": [
       "<div>\n",
       "<style scoped>\n",
       "    .dataframe tbody tr th:only-of-type {\n",
       "        vertical-align: middle;\n",
       "    }\n",
       "\n",
       "    .dataframe tbody tr th {\n",
       "        vertical-align: top;\n",
       "    }\n",
       "\n",
       "    .dataframe thead th {\n",
       "        text-align: right;\n",
       "    }\n",
       "</style>\n",
       "<table border=\"1\" class=\"dataframe\">\n",
       "  <thead>\n",
       "    <tr style=\"text-align: right;\">\n",
       "      <th></th>\n",
       "      <th>Usage</th>\n",
       "      <th>Lagging_Current_Reactive.Power_kVarh</th>\n",
       "      <th>Leading_Current_Reactive_Power_kVarh</th>\n",
       "      <th>CO2.tCO2.</th>\n",
       "      <th>Lagging_Current_Power_Factor</th>\n",
       "      <th>Leading_Current_Power_Factor</th>\n",
       "      <th>NSM</th>\n",
       "    </tr>\n",
       "  </thead>\n",
       "  <tbody>\n",
       "    <tr>\n",
       "      <th>count</th>\n",
       "      <td>35040.000000</td>\n",
       "      <td>35040.000000</td>\n",
       "      <td>35040.000000</td>\n",
       "      <td>35040.000000</td>\n",
       "      <td>35040.000000</td>\n",
       "      <td>35040.000000</td>\n",
       "      <td>35040.000000</td>\n",
       "    </tr>\n",
       "    <tr>\n",
       "      <th>mean</th>\n",
       "      <td>27.386892</td>\n",
       "      <td>13.035384</td>\n",
       "      <td>3.870949</td>\n",
       "      <td>0.011524</td>\n",
       "      <td>80.578056</td>\n",
       "      <td>84.367870</td>\n",
       "      <td>42750.000000</td>\n",
       "    </tr>\n",
       "    <tr>\n",
       "      <th>std</th>\n",
       "      <td>33.444380</td>\n",
       "      <td>16.306000</td>\n",
       "      <td>7.424463</td>\n",
       "      <td>0.016151</td>\n",
       "      <td>18.921322</td>\n",
       "      <td>30.456535</td>\n",
       "      <td>24940.534317</td>\n",
       "    </tr>\n",
       "    <tr>\n",
       "      <th>min</th>\n",
       "      <td>0.000000</td>\n",
       "      <td>0.000000</td>\n",
       "      <td>0.000000</td>\n",
       "      <td>0.000000</td>\n",
       "      <td>0.000000</td>\n",
       "      <td>0.000000</td>\n",
       "      <td>0.000000</td>\n",
       "    </tr>\n",
       "    <tr>\n",
       "      <th>25%</th>\n",
       "      <td>3.200000</td>\n",
       "      <td>2.300000</td>\n",
       "      <td>0.000000</td>\n",
       "      <td>0.000000</td>\n",
       "      <td>63.320000</td>\n",
       "      <td>99.700000</td>\n",
       "      <td>21375.000000</td>\n",
       "    </tr>\n",
       "    <tr>\n",
       "      <th>50%</th>\n",
       "      <td>4.570000</td>\n",
       "      <td>5.000000</td>\n",
       "      <td>0.000000</td>\n",
       "      <td>0.000000</td>\n",
       "      <td>87.960000</td>\n",
       "      <td>100.000000</td>\n",
       "      <td>42750.000000</td>\n",
       "    </tr>\n",
       "    <tr>\n",
       "      <th>75%</th>\n",
       "      <td>51.237500</td>\n",
       "      <td>22.640000</td>\n",
       "      <td>2.090000</td>\n",
       "      <td>0.020000</td>\n",
       "      <td>99.022500</td>\n",
       "      <td>100.000000</td>\n",
       "      <td>64125.000000</td>\n",
       "    </tr>\n",
       "    <tr>\n",
       "      <th>max</th>\n",
       "      <td>157.180000</td>\n",
       "      <td>96.910000</td>\n",
       "      <td>27.760000</td>\n",
       "      <td>0.070000</td>\n",
       "      <td>100.000000</td>\n",
       "      <td>100.000000</td>\n",
       "      <td>85500.000000</td>\n",
       "    </tr>\n",
       "  </tbody>\n",
       "</table>\n",
       "</div>"
      ],
      "text/plain": [
       "              Usage  Lagging_Current_Reactive.Power_kVarh  \\\n",
       "count  35040.000000                          35040.000000   \n",
       "mean      27.386892                             13.035384   \n",
       "std       33.444380                             16.306000   \n",
       "min        0.000000                              0.000000   \n",
       "25%        3.200000                              2.300000   \n",
       "50%        4.570000                              5.000000   \n",
       "75%       51.237500                             22.640000   \n",
       "max      157.180000                             96.910000   \n",
       "\n",
       "       Leading_Current_Reactive_Power_kVarh     CO2.tCO2.  \\\n",
       "count                          35040.000000  35040.000000   \n",
       "mean                               3.870949      0.011524   \n",
       "std                                7.424463      0.016151   \n",
       "min                                0.000000      0.000000   \n",
       "25%                                0.000000      0.000000   \n",
       "50%                                0.000000      0.000000   \n",
       "75%                                2.090000      0.020000   \n",
       "max                               27.760000      0.070000   \n",
       "\n",
       "       Lagging_Current_Power_Factor  Leading_Current_Power_Factor  \\\n",
       "count                  35040.000000                  35040.000000   \n",
       "mean                      80.578056                     84.367870   \n",
       "std                       18.921322                     30.456535   \n",
       "min                        0.000000                      0.000000   \n",
       "25%                       63.320000                     99.700000   \n",
       "50%                       87.960000                    100.000000   \n",
       "75%                       99.022500                    100.000000   \n",
       "max                      100.000000                    100.000000   \n",
       "\n",
       "                NSM  \n",
       "count  35040.000000  \n",
       "mean   42750.000000  \n",
       "std    24940.534317  \n",
       "min        0.000000  \n",
       "25%    21375.000000  \n",
       "50%    42750.000000  \n",
       "75%    64125.000000  \n",
       "max    85500.000000  "
      ]
     },
     "execution_count": 53,
     "metadata": {},
     "output_type": "execute_result"
    }
   ],
   "source": [
    "df.describe()"
   ]
  },
  {
   "cell_type": "code",
   "execution_count": 55,
   "id": "f9e89614",
   "metadata": {},
   "outputs": [
    {
     "name": "stderr",
     "output_type": "stream",
     "text": [
      "C:\\Users\\mckad\\anaconda3\\envs\\ailab\\lib\\site-packages\\ipykernel_launcher.py:9: UserWarning: FixedFormatter should only be used together with FixedLocator\n",
      "  if __name__ == \"__main__\":\n"
     ]
    },
    {
     "data": {
      "image/png": "[encoded data removed]",
      "text/plain": [
       "<Figure size 640x480 with 2 Axes>"
      ]
     },
     "metadata": {},
     "output_type": "display_data"
    }
   ],
   "source": [
    "figure = plt.figure()\n",
    "axes = figure.add_subplot(111)\n",
    " \n",
    "# using the matshow() function\n",
    "caxes = axes.matshow(df.loc[:, df.columns != \"Usage\"].corr())\n",
    "figure.colorbar(caxes)\n",
    " \n",
    "# axes.set_xticklabels(['']+df.loc[:, df.columns != \"Usage\"].columns)\n",
    "axes.set_yticklabels(['']+df.loc[:, df.columns != \"Usage\"].columns)\n",
    "plt.title('Correlation Matrix for Input Features')\n",
    "plt.show()"
   ]
  },
  {
   "cell_type": "code",
   "execution_count": 67,
   "id": "13f40724",
   "metadata": {},
   "outputs": [
    {
     "data": {
      "image/png": "[encoded data removed]",
      "text/plain": [
       "<Figure size 640x480 with 1 Axes>"
      ]
     },
     "metadata": {},
     "output_type": "display_data"
    }
   ],
   "source": [
    "# plt.figure(figsize=(8,5))\n",
    "sns.boxplot(x='class',y='Usage',data=df)\n",
    "plt.title(\"Energy Usage for Discretized Labels\")\n",
    "plt.xlabel('Label')\n",
    "plt.show()"
   ]
  },
  {
   "cell_type": "code",
   "execution_count": 79,
   "id": "6d0064d7",
   "metadata": {
    "id": "6d0064d7"
   },
   "outputs": [],
   "source": [
    "# Feature Selection/Pre-Processing - McKade"
   ]
  },
  {
   "cell_type": "code",
   "execution_count": 51,
   "id": "61e9a91a",
   "metadata": {
    "id": "61e9a91a"
   },
   "outputs": [],
   "source": [
    "# Define the network - Brian\n",
    "\n",
    "#Setting a seed for torch\n",
    "torch.manual_seed(14296) \n",
    "\n",
    "# Test-train split\n",
    "X = df.drop(['class'], axis = 1)\n",
    "y = torch.tensor(df['class'].values.astype(np.float32))\n",
    "X_train, X_test, y_train, y_test = train_test_split(X, y, test_size=0.90, random_state=42)\n",
    "\n",
    "# A-Priori hyperparameters\n",
    "\n",
    "y_cont_train = X_train[\"Usage\"].to_numpy()\n",
    "y_cont_test = X_test[\"Usage\"].to_numpy()\n",
    "X_train = torch.tensor(X_train.drop(['Usage'], axis = 1).values)\n",
    "X_test = torch.tensor(X_test.drop(['Usage'], axis = 1).values)\n",
    "# X_train = torch.tensor(X_train)\n",
    "input_size = 19\n",
    "num_epochs = 30"
   ]
  },
  {
   "cell_type": "code",
   "execution_count": 29,
   "id": "YtobJiYm3ae-",
   "metadata": {
    "id": "YtobJiYm3ae-"
   },
   "outputs": [],
   "source": [
    "# Model with one hidden layer\n",
    "\n",
    "class NeuralNet1(nn.Module):\n",
    "    \n",
    "    def __init__(self, hidden_size: int, input_size: int = 18):\n",
    "        super(NeuralNet1, self).__init__()\n",
    "\n",
    "        self.fc1 = nn.Linear(input_size, hidden_size)\n",
    "        self.relu = nn.ReLU()\n",
    "        self.fc2 = nn.Linear(hidden_size,1)\n",
    "    \n",
    "    def forward(self, x):\n",
    "\n",
    "        out = self.fc1(x)\n",
    "        out = self.relu(out)\n",
    "        out = self.fc2(out)\n",
    "        return out\n",
    "\n",
    "# Define the Loss Function and optimizer\n",
    "criterion = nn.MSELoss()"
   ]
  },
  {
   "cell_type": "code",
   "execution_count": 104,
   "id": "93ZT2x0S3eax",
   "metadata": {
    "id": "93ZT2x0S3eax"
   },
   "outputs": [],
   "source": [
    "# Model with two hidden layers\n",
    "\n",
    "class NeuralNet2(nn.Module):\n",
    "    \n",
    "    def __init__(self, input_size, hidden_size):\n",
    "        super(NeuralNet2, self).__init__()\n",
    "\n",
    "        self.fc1 = nn.Linear(input_size,hidden_size)\n",
    "        self.relu1 = nn.ReLU()\n",
    "        self.fc2 = nn.Linear(hidden_size,hidden_size)\n",
    "        self.relu2 = nn.ReLU()\n",
    "        self.fc3 = nn.Linear(hidden_size, 1)\n",
    "    \n",
    "    def forward(self, x):\n",
    "\n",
    "        out = self.fc1(x)\n",
    "        out = self.relu1(out)\n",
    "        out = self.fc2(out)\n",
    "        out = self.relu2(out)\n",
    "        out = self.fc3(out)\n",
    "        return out\n",
    "\n",
    "# Define the Loss Function and optimizer\n",
    "# criterion = nn.MSELoss()\n",
    "\n",
    "# Adam?\n",
    "lr = 0.001\n",
    "# optimizer = torch.optim.Adam(lr = lr)\n",
    "# Other best option might be SGD with momentum, but that gives us another \n",
    "# parameter to tune."
   ]
  },
  {
   "cell_type": "code",
   "execution_count": 78,
   "id": "97e90819",
   "metadata": {
    "id": "4107e645"
   },
   "outputs": [
    {
     "name": "stdout",
     "output_type": "stream",
     "text": [
      "  epoch    train_loss    valid_loss     dur\n",
      "-------  ------------  ------------  ------\n",
      "      1     \u001b[36m4988.1590\u001b[0m     \u001b[32m1238.9074\u001b[0m  0.1241\n",
      "      2      \u001b[36m511.7994\u001b[0m      \u001b[32m155.3258\u001b[0m  0.0901\n",
      "      3       \u001b[36m77.3152\u001b[0m       \u001b[32m33.4506\u001b[0m  0.0763\n",
      "      4       \u001b[36m18.8784\u001b[0m       \u001b[32m10.0364\u001b[0m  0.0735\n",
      "      5        \u001b[36m8.0526\u001b[0m        \u001b[32m8.1429\u001b[0m  0.0874\n",
      "      6        \u001b[36m7.8010\u001b[0m        \u001b[32m8.1330\u001b[0m  0.1349\n",
      "      7        \u001b[36m7.7911\u001b[0m        \u001b[32m8.1224\u001b[0m  0.1091\n",
      "      8        \u001b[36m7.7805\u001b[0m        \u001b[32m8.1111\u001b[0m  0.0800\n",
      "      9        \u001b[36m7.7692\u001b[0m        \u001b[32m8.0989\u001b[0m  0.0835\n",
      "     10        \u001b[36m7.7571\u001b[0m        \u001b[32m8.0861\u001b[0m  0.0870\n",
      "     11        \u001b[36m7.7443\u001b[0m        \u001b[32m8.0725\u001b[0m  0.0794\n",
      "     12        \u001b[36m7.7309\u001b[0m        \u001b[32m8.0583\u001b[0m  0.0718\n",
      "     13        \u001b[36m7.7168\u001b[0m        \u001b[32m8.0435\u001b[0m  0.0764\n",
      "     14        \u001b[36m7.7021\u001b[0m        \u001b[32m8.0280\u001b[0m  0.0789\n",
      "     15        \u001b[36m7.6869\u001b[0m        \u001b[32m8.0119\u001b[0m  0.0874\n",
      "     16        \u001b[36m7.6710\u001b[0m        \u001b[32m7.9953\u001b[0m  0.0729\n",
      "     17        \u001b[36m7.6546\u001b[0m        \u001b[32m7.9781\u001b[0m  0.0925\n",
      "     18        \u001b[36m7.6377\u001b[0m        \u001b[32m7.9603\u001b[0m  0.0876\n",
      "     19        \u001b[36m7.6203\u001b[0m        \u001b[32m7.9420\u001b[0m  0.0844\n",
      "     20        \u001b[36m7.6023\u001b[0m        \u001b[32m7.9232\u001b[0m  0.0997\n",
      "  epoch     train_loss     valid_loss     dur\n",
      "-------  -------------  -------------  ------\n",
      "      1  \u001b[36m18066970.5301\u001b[0m  \u001b[32m14316008.9287\u001b[0m  0.0724\n",
      "      2  \u001b[36m11536987.4995\u001b[0m  \u001b[32m9632105.6191\u001b[0m  0.1103\n",
      "      3  \u001b[36m8084116.1061\u001b[0m  \u001b[32m6862059.3581\u001b[0m  0.1266\n",
      "      4  \u001b[36m5775254.4288\u001b[0m  \u001b[32m4918326.2325\u001b[0m  0.1672\n",
      "      5  \u001b[36m3752137.5590\u001b[0m  \u001b[32m2233210.9060\u001b[0m  0.1391\n",
      "      6  \u001b[36m1134103.5752\u001b[0m   \u001b[32m339510.6072\u001b[0m  0.1379\n",
      "      7   \u001b[36m104631.7438\u001b[0m     \u001b[32m2304.2985\u001b[0m  0.1827\n",
      "      8     \u001b[36m1588.3244\u001b[0m     2656.5961  0.1192\n",
      "      9     \u001b[36m1222.1234\u001b[0m      \u001b[32m155.7471\u001b[0m  0.0863\n",
      "     10       \u001b[36m65.2495\u001b[0m       \u001b[32m60.9902\u001b[0m  0.0882\n",
      "     11       \u001b[36m54.0467\u001b[0m       \u001b[32m43.7840\u001b[0m  0.0927\n",
      "     12       \u001b[36m43.5929\u001b[0m       \u001b[32m42.5749\u001b[0m  0.0916\n",
      "     13       \u001b[36m43.4738\u001b[0m       \u001b[32m42.2439\u001b[0m  0.0853\n",
      "     14       \u001b[36m43.2332\u001b[0m       \u001b[32m42.1026\u001b[0m  0.1138\n",
      "     15       \u001b[36m43.0996\u001b[0m       \u001b[32m41.9847\u001b[0m  0.2014\n",
      "     16       \u001b[36m42.9799\u001b[0m       \u001b[32m41.8611\u001b[0m  0.1170\n",
      "     17       \u001b[36m42.8547\u001b[0m       \u001b[32m41.7306\u001b[0m  0.0910\n",
      "     18       \u001b[36m42.7228\u001b[0m       \u001b[32m41.5967\u001b[0m  0.0959\n",
      "     19       \u001b[36m42.5877\u001b[0m       \u001b[32m41.4597\u001b[0m  0.1292\n",
      "     20       \u001b[36m42.4492\u001b[0m       \u001b[32m41.3187\u001b[0m  0.1161\n",
      "  epoch    train_loss    valid_loss     dur\n",
      "-------  ------------  ------------  ------\n",
      "      1  \u001b[36m1697519.0863\u001b[0m   \u001b[32m705521.8205\u001b[0m  0.2075\n",
      "      2   \u001b[36m297778.3673\u001b[0m    \u001b[32m52255.3670\u001b[0m  0.2111\n",
      "      3    \u001b[36m10849.5777\u001b[0m     \u001b[32m3255.8233\u001b[0m  0.1485\n",
      "      4     \u001b[36m1676.7335\u001b[0m       \u001b[32m13.6597\u001b[0m  0.1256\n",
      "      5       \u001b[36m59.0388\u001b[0m       53.4247  0.1493\n",
      "      6       \u001b[36m15.5592\u001b[0m        \u001b[32m5.3540\u001b[0m  0.1144\n",
      "      7        \u001b[36m2.5357\u001b[0m        \u001b[32m2.0657\u001b[0m  0.0967\n",
      "      8        \u001b[36m1.9782\u001b[0m        \u001b[32m1.9048\u001b[0m  0.1068\n",
      "      9        \u001b[36m1.6987\u001b[0m        \u001b[32m1.4218\u001b[0m  0.1119\n",
      "     10       19.4531        6.0992  0.0932\n",
      "     11        3.2164        2.9133  0.1199\n",
      "     12        2.5701        2.2592  0.0939\n",
      "     13        2.4159        2.2323  0.0956\n",
      "     14        2.4034        2.2163  0.1302\n",
      "     15        2.3917        2.2099  0.0996\n",
      "     16        2.3850        2.2026  0.1070\n",
      "     17        2.3772        2.1950  0.1118\n",
      "     18        2.3694        2.1875  0.1429\n",
      "     19        2.3614        2.1798  0.1075\n",
      "     20        2.3532        2.1719  0.1098\n",
      "  epoch    train_loss    valid_loss     dur\n",
      "-------  ------------  ------------  ------\n",
      "      1   \u001b[36m194774.7071\u001b[0m    \u001b[32m10246.2260\u001b[0m  0.0841\n",
      "      2     \u001b[36m8949.2742\u001b[0m     \u001b[32m5317.6950\u001b[0m  0.1185\n",
      "      3     \u001b[36m1714.0637\u001b[0m        \u001b[32m6.6832\u001b[0m  0.0989\n",
      "      4      \u001b[36m151.9877\u001b[0m       31.0316  0.1635\n",
      "      5       \u001b[36m12.9396\u001b[0m        8.6180  0.1210\n",
      "      6        \u001b[36m7.5878\u001b[0m        7.1430  0.1093\n",
      "      7        \u001b[36m5.7781\u001b[0m        \u001b[32m5.2832\u001b[0m  0.0845\n",
      "      8        \u001b[36m5.1640\u001b[0m        \u001b[32m4.7196\u001b[0m  0.1086\n",
      "      9        \u001b[36m3.8344\u001b[0m        \u001b[32m1.3882\u001b[0m  0.1125\n",
      "     10        \u001b[36m1.3920\u001b[0m        1.5072  0.1279\n",
      "     11        \u001b[36m1.3741\u001b[0m        2.2371  0.0886\n",
      "     12        1.4640        1.5987  0.1240\n",
      "     13        2.6124        \u001b[32m1.0302\u001b[0m  0.1560\n",
      "     14        \u001b[36m1.2729\u001b[0m        1.1123  0.1370\n",
      "     15        \u001b[36m1.0255\u001b[0m        1.1128  0.1354\n",
      "     16        \u001b[36m1.0105\u001b[0m        1.1934  0.1076\n",
      "     17        \u001b[36m0.9704\u001b[0m        1.1038  0.1177\n",
      "     18        \u001b[36m0.9072\u001b[0m        \u001b[32m0.9558\u001b[0m  0.0979\n",
      "     19        \u001b[36m0.8596\u001b[0m        \u001b[32m0.9244\u001b[0m  0.1116\n",
      "     20        \u001b[36m0.8360\u001b[0m        0.9245  0.1079\n",
      "  epoch    train_loss    valid_loss     dur\n",
      "-------  ------------  ------------  ------\n",
      "      1  \u001b[36m2100040.3073\u001b[0m   \u001b[32m391634.9610\u001b[0m  0.1247\n",
      "      2   \u001b[36m102633.0013\u001b[0m      \u001b[32m748.6769\u001b[0m  0.1409\n",
      "      3    \u001b[36m13640.3568\u001b[0m     7026.5030  0.0990\n",
      "      4     \u001b[36m1534.0520\u001b[0m       \u001b[32m89.4240\u001b[0m  0.0994\n",
      "      5      \u001b[36m185.2624\u001b[0m       \u001b[32m54.0282\u001b[0m  0.1050\n",
      "      6       \u001b[36m25.4087\u001b[0m       \u001b[32m20.0384\u001b[0m  0.1115\n",
      "      7       \u001b[36m19.5870\u001b[0m       \u001b[32m14.5338\u001b[0m  0.1049\n",
      "      8       \u001b[36m11.9980\u001b[0m        \u001b[32m5.8307\u001b[0m  0.1041\n",
      "      9        \u001b[36m5.5330\u001b[0m        \u001b[32m3.6169\u001b[0m  0.1014\n",
      "     10        \u001b[36m3.5117\u001b[0m        \u001b[32m2.4646\u001b[0m  0.1120\n",
      "     11        \u001b[36m2.9329\u001b[0m        \u001b[32m1.9957\u001b[0m  0.1382\n",
      "     12        \u001b[36m2.8742\u001b[0m        \u001b[32m1.7439\u001b[0m  0.1278\n",
      "     13        \u001b[36m1.8601\u001b[0m        \u001b[32m1.6243\u001b[0m  0.0930\n",
      "     14        \u001b[36m1.6811\u001b[0m        \u001b[32m1.3609\u001b[0m  0.0949\n",
      "     15        \u001b[36m1.5124\u001b[0m        \u001b[32m1.2761\u001b[0m  0.1179\n",
      "     16        \u001b[36m1.3699\u001b[0m        1.3181  0.1078\n",
      "     17        \u001b[36m1.2354\u001b[0m        \u001b[32m1.2735\u001b[0m  0.1510\n",
      "     18        \u001b[36m1.1434\u001b[0m        \u001b[32m1.1920\u001b[0m  0.1993\n",
      "     19        \u001b[36m1.0879\u001b[0m        1.2525  0.1337\n",
      "     20       12.0832       29.4079  0.2135\n",
      "  epoch    train_loss    valid_loss     dur\n",
      "-------  ------------  ------------  ------\n",
      "      1   \u001b[36m100119.1556\u001b[0m    \u001b[32m30536.7950\u001b[0m  0.0971\n",
      "      2     \u001b[36m9485.4712\u001b[0m     \u001b[32m2314.3422\u001b[0m  0.1087\n",
      "      3     \u001b[36m1140.5997\u001b[0m      \u001b[32m333.6867\u001b[0m  0.1173\n",
      "      4      \u001b[36m121.5553\u001b[0m       \u001b[32m21.8226\u001b[0m  0.1646\n",
      "      5       \u001b[36m10.5807\u001b[0m        \u001b[32m4.1838\u001b[0m  0.2147\n",
      "      6        \u001b[36m4.0494\u001b[0m        \u001b[32m1.8158\u001b[0m  0.1665\n",
      "      7        \u001b[36m2.3622\u001b[0m        \u001b[32m1.7680\u001b[0m  0.1496\n",
      "      8        \u001b[36m1.8127\u001b[0m        2.3304  0.1900\n",
      "      9        2.0985        3.1352  0.1928\n",
      "     10        2.1757        1.8334  0.1924\n",
      "     11        \u001b[36m1.6843\u001b[0m        \u001b[32m1.7408\u001b[0m  0.1771\n",
      "     12        2.0559        \u001b[32m1.3614\u001b[0m  0.1721\n",
      "     13        1.7503        \u001b[32m1.2833\u001b[0m  0.1643\n",
      "     14       42.7987       16.4059  0.1336\n",
      "     15        7.3407        8.8861  0.1229\n",
      "     16        3.4052        3.0958  0.1183\n",
      "     17        \u001b[36m1.6675\u001b[0m        1.3616  0.1277\n",
      "     18        \u001b[36m1.1617\u001b[0m        \u001b[32m1.1020\u001b[0m  0.1626\n",
      "     19        2.8950        4.1390  0.1478\n",
      "     20        4.2860        1.7976  0.1377\n",
      "  epoch    train_loss    valid_loss     dur\n",
      "-------  ------------  ------------  ------\n",
      "      1  \u001b[36m1920729.5904\u001b[0m    \u001b[32m19617.4440\u001b[0m  0.1619\n",
      "      2   \u001b[36m114787.0933\u001b[0m      \u001b[32m683.6463\u001b[0m  0.1934\n",
      "      3    \u001b[36m11122.9697\u001b[0m     5756.9126  0.1853\n",
      "      4     \u001b[36m1220.3915\u001b[0m      \u001b[32m497.9002\u001b[0m  0.1892\n",
      "      5       \u001b[36m96.4198\u001b[0m       \u001b[32m22.1522\u001b[0m  0.1997\n",
      "      6        \u001b[36m8.5910\u001b[0m       \u001b[32m11.0256\u001b[0m  0.2125\n",
      "      7        \u001b[36m4.6556\u001b[0m        \u001b[32m2.2349\u001b[0m  0.1989\n",
      "      8        \u001b[36m2.4563\u001b[0m        \u001b[32m1.7069\u001b[0m  0.1896\n",
      "      9        7.4117        4.2779  0.1958\n",
      "     10        \u001b[36m2.3454\u001b[0m        2.0336  0.1791\n",
      "     11        4.6141        3.2087  0.1350\n",
      "     12        \u001b[36m1.9523\u001b[0m        2.2074  0.1376\n"
     ]
    },
    {
     "name": "stdout",
     "output_type": "stream",
     "text": [
      "     13        \u001b[36m1.7693\u001b[0m        \u001b[32m0.9021\u001b[0m  0.1332\n",
      "     14        \u001b[36m1.2203\u001b[0m        1.7953  0.1348\n",
      "     15        6.5789       11.3614  0.1287\n",
      "     16        4.7767        3.3378  0.1413\n",
      "     17        1.4491        2.1341  0.1424\n",
      "     18        2.6241        3.8790  0.1436\n",
      "     19        1.8631        5.6133  0.1407\n",
      "     20        2.5887        2.2181  0.1484\n",
      "  epoch     train_loss    valid_loss     dur\n",
      "-------  -------------  ------------  ------\n",
      "      1  \u001b[36m17601732.3628\u001b[0m  \u001b[32m7841378.7475\u001b[0m  0.2475\n",
      "      2  \u001b[36m1879383.8391\u001b[0m  \u001b[32m1112729.4964\u001b[0m  0.2625\n",
      "      3   \u001b[36m255649.1104\u001b[0m     \u001b[32m8025.9310\u001b[0m  0.2914\n",
      "      4    \u001b[36m24355.2556\u001b[0m     \u001b[32m6671.4192\u001b[0m  0.2901\n",
      "      5     \u001b[36m2208.7678\u001b[0m       \u001b[32m20.4756\u001b[0m  0.2775\n",
      "      6      \u001b[36m140.4539\u001b[0m       22.8491  0.2636\n",
      "      7       \u001b[36m11.0189\u001b[0m        \u001b[32m6.3446\u001b[0m  0.2563\n",
      "      8        \u001b[36m6.3450\u001b[0m        7.5346  0.2548\n",
      "      9        \u001b[36m6.1978\u001b[0m        \u001b[32m4.9122\u001b[0m  0.2489\n",
      "     10        \u001b[36m5.7733\u001b[0m        5.2545  0.2601\n",
      "     11       15.5481        6.8394  0.2630\n",
      "     12        \u001b[36m4.3405\u001b[0m        \u001b[32m4.4958\u001b[0m  0.2652\n",
      "     13        7.9385        4.5526  0.2677\n",
      "     14        5.3625       20.5657  0.2573\n",
      "     15        8.3718        \u001b[32m4.0361\u001b[0m  0.2649\n",
      "     16        9.5656        \u001b[32m2.4886\u001b[0m  0.2510\n",
      "     17        8.7079        3.4174  0.2500\n",
      "     18       14.1202        8.7317  0.2663\n",
      "     19        7.2627        2.5254  0.2632\n",
      "     20        6.1592        3.1386  0.2926\n"
     ]
    }
   ],
   "source": [
    "# Run Monte Carlo Simulation\n",
    "\n",
    "# Maybe use skorch so we can use gridsearch to more easily see which \n",
    "# configuration (lr, # of nodes, batch size, etc. performs best)?\n",
    "# num_sims = 1-0\n",
    "# for i in range(1, num_sims):\n",
    "sizes = [0,0.5,1,1.5,2,2.5,3,3.5]\n",
    "hidden_sizes = [ round(10**x) for x in sizes ]\n",
    "binned_mse = []\n",
    "cont_mse = []\n",
    "for size in hidden_sizes:\n",
    "    model = NeuralNetRegressor(module = NeuralNet1(hidden_size = size), \n",
    "                         max_epochs = 20,\n",
    "                         criterion = nn.MSELoss, \n",
    "                         optimizer = torch.optim.Adam,\n",
    "                         lr = 0.001,\n",
    "                         batch_size = 128,\n",
    "                         optimizer__weight_decay = 0.001)\n",
    "\n",
    "    model.fit(X_train.float(), y_train.reshape(-1, 1))\n",
    "    y_preds = model.predict(X_test.float())\n",
    "    # Get RMSE\n",
    "    binned_mse.append(np.sqrt(mean_squared_error(y_preds, y_test.float())))\n",
    "    # Build LM using y_preds\n",
    "    reg = LinearRegression().fit(y_preds, y_cont_test)\n",
    "    cont_preds = reg.predict(y_preds)\n",
    "    # Get RMSE\n",
    "    cont_mse.append(np.sqrt(mean_squared_error(cont_preds, y_test.float())))"
   ]
  },
  {
   "cell_type": "code",
   "execution_count": 77,
   "id": "2d16a3f0",
   "metadata": {},
   "outputs": [
    {
     "data": {
      "text/plain": [
       "32.307117"
      ]
     },
     "execution_count": 77,
     "metadata": {},
     "output_type": "execute_result"
    }
   ],
   "source": [
    "reg = LinearRegression().fit(y_preds, y_cont_test)\n",
    "cont_preds = reg.predict(y_preds)\n",
    "np.sqrt(mean_squared_error(cont_preds, y_test.float()))"
   ]
  },
  {
   "cell_type": "code",
   "execution_count": 8,
   "id": "ecacaf70",
   "metadata": {
    "id": "ecacaf70"
   },
   "outputs": [
    {
     "data": {
      "text/plain": [
       "Text(0, 0.5, 'Binned RMSE')"
      ]
     },
     "execution_count": 8,
     "metadata": {},
     "output_type": "execute_result"
    },
    {
     "data": {
      "image/png": "[encoded data removed]",
      "text/plain": [
       "<Figure size 640x480 with 1 Axes>"
      ]
     },
     "metadata": {},
     "output_type": "display_data"
    }
   ],
   "source": [
    "# Visualize Results\n",
    "plt.plot(np.log10(hidden_sizes), binned_mse)\n",
    "plt.xlabel(\"Logged Size\")\n",
    "plt.ylabel(\"Binned RMSE\")"
   ]
  },
  {
   "cell_type": "code",
   "execution_count": 82,
   "id": "0b42592f",
   "metadata": {},
   "outputs": [
    {
     "data": {
      "text/plain": [
       "Text(0, 0.5, 'Cont RMSE')"
      ]
     },
     "execution_count": 82,
     "metadata": {},
     "output_type": "execute_result"
    },
    {
     "data": {
      "image/png": "[encoded data removed]",
      "text/plain": [
       "<Figure size 640x480 with 1 Axes>"
      ]
     },
     "metadata": {},
     "output_type": "display_data"
    }
   ],
   "source": [
    "plt.plot(np.log10(hidden_sizes), cont_mse)\n",
    "plt.xlabel(\"Logged Size\")\n",
    "plt.ylabel(\"Cont RMSE\")"
   ]
  },
  {
   "cell_type": "code",
   "execution_count": 162,
   "id": "9f5b845a",
   "metadata": {},
   "outputs": [
    {
     "data": {
      "text/plain": [
       "array([0.        , 2.30258509, 4.60517019, 6.90775528, 9.21034037])"
      ]
     },
     "execution_count": 162,
     "metadata": {},
     "output_type": "execute_result"
    }
   ],
   "source": [
    "np.log(hidden_sizes)"
   ]
  },
  {
   "cell_type": "code",
   "execution_count": null,
   "id": "f4ae1c02",
   "metadata": {
    "id": "f4ae1c02"
   },
   "outputs": [],
   "source": [
    "# Validate Results\n",
    "## NOTE: Check for assumptions being met for using LR"
   ]
  }
 ],
 "metadata": {
  "colab": {
   "provenance": []
  },
  "kernelspec": {
   "display_name": "Python 3 (ipykernel)",
   "language": "python",
   "name": "python3"
  },
  "language_info": {
   "codemirror_mode": {
    "name": "ipython",
    "version": 3
   },
   "file_extension": ".py",
   "mimetype": "text/x-python",
   "name": "python",
   "nbconvert_exporter": "python",
   "pygments_lexer": "ipython3",
   "version": "3.7.13"
  }
 },
 "nbformat": 4,
 "nbformat_minor": 5
}
