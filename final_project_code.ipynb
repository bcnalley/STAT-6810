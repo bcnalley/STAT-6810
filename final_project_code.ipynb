{
 "cells": [
  {
   "cell_type": "markdown",
   "id": "9ab22508",
   "metadata": {},
   "source": [
    "# Deep Learning Final Project"
   ]
  },
  {
   "cell_type": "markdown",
   "id": "89953075",
   "metadata": {},
   "source": [
    "#### McKade Thomas\n",
    "#### Brian Nalley"
   ]
  },
  {
   "cell_type": "code",
   "execution_count": null,
   "id": "0a78a748",
   "metadata": {},
   "outputs": [],
   "source": []
  }
 ],
 "metadata": {
  "kernelspec": {
   "display_name": "Python 3 (ipykernel)",
   "language": "python",
   "name": "python3"
  },
  "language_info": {
   "codemirror_mode": {
    "name": "ipython",
    "version": 3
   },
   "file_extension": ".py",
   "mimetype": "text/x-python",
   "name": "python",
   "nbconvert_exporter": "python",
   "pygments_lexer": "ipython3",
   "version": "3.7.13"
  }
 },
 "nbformat": 4,
 "nbformat_minor": 5
}
